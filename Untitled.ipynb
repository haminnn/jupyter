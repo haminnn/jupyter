{
 "cells": [
  {
   "cell_type": "code",
   "execution_count": 1,
   "id": "b501f143-5671-4d57-8eb2-4a5a75cd8dc1",
   "metadata": {},
   "outputs": [
    {
     "name": "stdout",
     "output_type": "stream",
     "text": [
      "성인입니다.\n"
     ]
    }
   ],
   "source": [
    "age = 20\n",
    "if(age >= 20):\n",
    "    print('성인입니다.')\n",
    "else:\n",
    "    print('성인이 아닙니다.')"
   ]
  },
  {
   "cell_type": "code",
   "execution_count": 5,
   "id": "0b52e7e5-97ca-45d5-9f76-0a2904a61e44",
   "metadata": {},
   "outputs": [
    {
     "name": "stdout",
     "output_type": "stream",
     "text": [
      "True\n",
      "False\n",
      "False\n",
      "False\n",
      "True\n",
      "True\n",
      "True\n",
      "False\n",
      "False\n"
     ]
    }
   ],
   "source": [
    "print(1==1 and 2==2) #true\n",
    "print(1!=1 and 2==2) #false\n",
    "print(1==1 and 2!=2) #false\n",
    "print(1!=1 and 2!=2) #false\n",
    "print(1==1 or 2==2) #true\n",
    "print(1!=1 or 2==2) #true\n",
    "print(1==1 or 2!=2) #true\n",
    "print(1!=1 or 2!=2) #false\n",
    "print(not 10 > 5) #false"
   ]
  },
  {
   "cell_type": "code",
   "execution_count": 111,
   "id": "bbd8a262-eeda-49bb-938a-033bd91f1dac",
   "metadata": {},
   "outputs": [
    {
     "name": "stdin",
     "output_type": "stream",
     "text": [
      "이름을 입력하세요.\t\t 최하민\n",
      "\n",
      "국어 점수를 입력하세요.\t 50\n",
      "영어 점수를 입력하세요.\t 60\n",
      "수학 점수를 입력하세요.\t 70\n"
     ]
    },
    {
     "name": "stdout",
     "output_type": "stream",
     "text": [
      "\n",
      "합계 점수는 50+60+70 = 180입니다.\n",
      "\n",
      "평균 점수는 60 점입니다\n",
      "\n",
      "이름\t국어\t영어\t수학\t총점\t평균\n",
      "--------------------------------------------\n",
      "최하민\t50\t60\t70\t180\t60\n",
      "\n",
      "최하민님의 총점:180 평균점수:60\n"
     ]
    }
   ],
   "source": [
    "name = input('이름을 입력하세요.\\t\\t')\n",
    "a = int(input('\\n국어 점수를 입력하세요.\\t'))\n",
    "b = int(input('영어 점수를 입력하세요.\\t'))\n",
    "c = int(input('수학 점수를 입력하세요.\\t'))\n",
    "average = (a+b+c)/3\n",
    "total = a+b+c\n",
    "print('\\n합계 점수는 %d+%d+%d = %2.f입니다.' %(a,b,c,total))\n",
    "print('\\n평균 점수는 %d 점입니다\\n' %average)\n",
    "print('이름\\t국어\\t영어\\t수학\\t총점\\t평균\\n--------------------------------------------')\n",
    "print('%s\\t%d\\t%d\\t%d\\t%d\\t%d'%(name,a,b,c,total,average))\n",
    "print('\\n%s님의 총점:%d 평균점수:%d' %(name, total, average))"
   ]
  },
  {
   "cell_type": "code",
   "execution_count": 138,
   "id": "5cf4daac-6dbb-45a1-bf8f-32c5eecfb55f",
   "metadata": {},
   "outputs": [
    {
     "name": "stdin",
     "output_type": "stream",
     "text": [
      "data를 입력하세요 50\n",
      "score를 입력하세요 100\n"
     ]
    },
    {
     "name": "stdout",
     "output_type": "stream",
     "text": [
      "True\n",
      "True\n",
      "False\n",
      "False\n",
      "False\n",
      "True\n",
      "True\n",
      "False\n",
      "True\n",
      "True\n",
      "False\n"
     ]
    }
   ],
   "source": [
    "data = int(input('data를 입력하세요'))\n",
    "score = int(input('score를 입력하세요'))\n",
    "x = print(data < score)\n",
    "x = print(data <= score)\n",
    "x = print(data > score)\n",
    "x = print(data >= score)\n",
    "x = print(data == score)\n",
    "x = print(data != score)\n",
    "print(data >= 0 and score <= 100)\n",
    "print(data <= 0 and score >= 100)\n",
    "print(data >= 0 or score <= 100)\n",
    "print(data <= 0 or score >= 100)\n",
    "print(not score <= 100)"
   ]
  },
  {
   "cell_type": "code",
   "execution_count": null,
   "id": "35644b94-87cc-4288-a2fa-93078e783514",
   "metadata": {},
   "outputs": [],
   "source": []
  }
 ],
 "metadata": {
  "kernelspec": {
   "display_name": "Python 3 (ipykernel)",
   "language": "python",
   "name": "python3"
  },
  "language_info": {
   "codemirror_mode": {
    "name": "ipython",
    "version": 3
   },
   "file_extension": ".py",
   "mimetype": "text/x-python",
   "name": "python",
   "nbconvert_exporter": "python",
   "pygments_lexer": "ipython3",
   "version": "3.9.7"
  }
 },
 "nbformat": 4,
 "nbformat_minor": 5
}
