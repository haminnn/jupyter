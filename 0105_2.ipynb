{
 "cells": [
  {
   "cell_type": "code",
   "execution_count": 82,
   "id": "bb076b2e-86a0-48f3-9816-34713e7f4274",
   "metadata": {},
   "outputs": [
    {
     "name": "stderr",
     "output_type": "stream",
     "text": [
      "C:\\Users\\BIT\\AppData\\Local\\Temp/ipykernel_8204/4162225044.py:4: DeprecationWarning: executable_path has been deprecated, please pass in a Service object\n",
      "  driver = webdriver.Chrome('driver/chromedriver')\n",
      "C:\\Users\\BIT\\AppData\\Local\\Temp/ipykernel_8204/4162225044.py:8: DeprecationWarning: find_element_by_* commands are deprecated. Please use find_element() instead\n",
      "  nv = driver.find_element_by_id(\"id\")\n",
      "C:\\Users\\BIT\\AppData\\Local\\Temp/ipykernel_8204/4162225044.py:12: DeprecationWarning: find_element_by_* commands are deprecated. Please use find_element() instead\n",
      "  nv = driver.find_element_by_id(\"pw\")\n",
      "C:\\Users\\BIT\\AppData\\Local\\Temp/ipykernel_8204/4162225044.py:18: DeprecationWarning: find_element_by_* commands are deprecated. Please use find_element() instead\n",
      "  driver.find_element_by_xpath(xpath).click()\n"
     ]
    }
   ],
   "source": [
    "# ##네이버 로그인\n",
    "# from selenium import webdriver\n",
    "\n",
    "# driver = webdriver.Chrome('driver/chromedriver')\n",
    "# driver.get(\"https://nid.naver.com/nidlogin.login?mode=form&url=https%3A%2F%2Fwww.naver.com\")\n",
    "\n",
    "\n",
    "# nv = driver.find_element_by_id(\"id\")\n",
    "# nv.clear()\n",
    "# nv.send_keys(\"xhals125\")\n",
    "\n",
    "# nv = driver.find_element_by_id(\"pw\")\n",
    "# nv.clear()\n",
    "# nv.send_keys(\"자신의 비밀번호\")\n",
    "# driver.implicitly_wait(30)\n",
    "\n",
    "# xpath = \"\"\"//*[@id=\"log.login\"]\"\"\"\n",
    "# driver.find_element_by_xpath(xpath).click()\n",
    "\n",
    "# #driver.close()"
   ]
  },
  {
   "cell_type": "code",
   "execution_count": 76,
   "id": "89de4757-c32a-4e57-884f-8d91c9ed5106",
   "metadata": {},
   "outputs": [
    {
     "name": "stderr",
     "output_type": "stream",
     "text": [
      "C:\\Users\\BIT\\AppData\\Local\\Temp/ipykernel_8204/41319660.py:3: DeprecationWarning: executable_path has been deprecated, please pass in a Service object\n",
      "  driver = webdriver.Chrome('driver/chromedriver')\n",
      "C:\\Users\\BIT\\AppData\\Local\\Temp/ipykernel_8204/41319660.py:9: DeprecationWarning: find_element_by_* commands are deprecated. Please use find_element() instead\n",
      "  sh = driver.find_element_by_xpath('/html/body/div[1]/div[3]/form/div[1]/div[1]/div[1]/div[2]/div[2]/input')\n",
      "C:\\Users\\BIT\\AppData\\Local\\Temp/ipykernel_8204/41319660.py:13: DeprecationWarning: find_element_by_* commands are deprecated. Please use find_element() instead\n",
      "  driver.find_element_by_xpath(shck).click()\n"
     ]
    }
   ],
   "source": [
    "# ##구글링하기\n",
    "# from selenium import webdriver\n",
    "\n",
    "# driver = webdriver.Chrome('driver/chromedriver')\n",
    "\n",
    "# driver.implicitly_wait(5)\n",
    "\n",
    "# driver.get(\"https://www.google.com/webhp?hl=ko&sa=X&ved=0ahUKEwiFu5PPjpr1AhXHqFYBHfohA28QPAgI\")\n",
    "\n",
    "# sh = driver.find_element_by_xpath('/html/body/div[1]/div[3]/form/div[1]/div[1]/div[1]/div[2]/div[2]/input')\n",
    "# sh.send_keys(\"파이썬 웹 크롤링\")\n",
    "\n",
    "# shck = '/html/body/div[1]/div[3]/form/div[1]/div[1]/div[2]/div[2]/div[5]/center/input[1]'\n",
    "# driver.find_element_by_xpath(shck).click()\n",
    "\n",
    "# #driver.close()\n"
   ]
  },
  {
   "cell_type": "code",
   "execution_count": 80,
   "id": "42bf7eaf-a3ea-4c80-9c26-9aed6fd49d20",
   "metadata": {},
   "outputs": [
    {
     "name": "stderr",
     "output_type": "stream",
     "text": [
      "C:\\Users\\BIT\\AppData\\Local\\Temp/ipykernel_8204/3271932611.py:4: DeprecationWarning: executable_path has been deprecated, please pass in a Service object\n",
      "  driver = webdriver.Chrome('driver/chromedriver')\n",
      "C:\\Users\\BIT\\AppData\\Local\\Temp/ipykernel_8204/3271932611.py:7: DeprecationWarning: find_element_by_* commands are deprecated. Please use find_element() instead\n",
      "  gg = driver.find_element_by_xpath('//*[@id=\"identifierId\"]')\n",
      "C:\\Users\\BIT\\AppData\\Local\\Temp/ipykernel_8204/3271932611.py:11: DeprecationWarning: find_element_by_* commands are deprecated. Please use find_element() instead\n",
      "  driver.find_element_by_xpath(ck).click()\n"
     ]
    }
   ],
   "source": [
    "# ##구글 로그인\n",
    "# from selenium import webdriver\n",
    "\n",
    "# driver = webdriver.Chrome('driver/chromedriver')\n",
    "# driver.get(\"https://accounts.google.com/signin/v2/identifier?hl=ko&passive=true&continue=https%3A%2F%2Fwww.google.co.kr%2F&ec=GAZAmgQ&flowName=GlifWebSignIn&flowEntry=ServiceLogin\")\n",
    "\n",
    "# gg = driver.find_element_by_xpath('//*[@id=\"identifierId\"]')\n",
    "# gg.send_keys(\"01071908305\")\n",
    "\n",
    "# ck = \"\"\"//*[@id=\"identifierNext\"]/div/button/span\"\"\"\n",
    "# driver.find_element_by_xpath(ck).click()\n",
    "\n",
    "# #driver.close()"
   ]
  }
 ],
 "metadata": {
  "kernelspec": {
   "display_name": "Python 3 (ipykernel)",
   "language": "python",
   "name": "python3"
  },
  "language_info": {
   "codemirror_mode": {
    "name": "ipython",
    "version": 3
   },
   "file_extension": ".py",
   "mimetype": "text/x-python",
   "name": "python",
   "nbconvert_exporter": "python",
   "pygments_lexer": "ipython3",
   "version": "3.9.7"
  }
 },
 "nbformat": 4,
 "nbformat_minor": 5
}
