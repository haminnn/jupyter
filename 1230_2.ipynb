{
 "cells": [
  {
   "cell_type": "code",
   "execution_count": 9,
   "id": "4629d8f9-795a-494d-a23b-07c3d2247820",
   "metadata": {},
   "outputs": [
    {
     "name": "stdout",
     "output_type": "stream",
     "text": [
      "25\n"
     ]
    }
   ],
   "source": [
    "x = pow(5,2)\n",
    "print(x)"
   ]
  },
  {
   "cell_type": "code",
   "execution_count": 10,
   "id": "32472a94-57aa-4818-95d8-374e0999f7dd",
   "metadata": {},
   "outputs": [
    {
     "name": "stdout",
     "output_type": "stream",
     "text": [
      "3\n"
     ]
    }
   ],
   "source": [
    "a = sum([1,2])\n",
    "print(a)"
   ]
  },
  {
   "cell_type": "code",
   "execution_count": 12,
   "id": "aac30af3-a7fd-4766-83d0-b4a070521493",
   "metadata": {},
   "outputs": [],
   "source": [
    "#클래스"
   ]
  },
  {
   "cell_type": "code",
   "execution_count": 69,
   "id": "ce5751c0-0141-407b-8b9a-2b163bd4f438",
   "metadata": {},
   "outputs": [],
   "source": [
    "class Car() : # 클래스 생성\n",
    "    def __init__(self, a, b, c) :\n",
    "        self.id = a\n",
    "        self.name = b\n",
    "        self.speed = c\n",
    "    def my_print(self) :\n",
    "        print(self.id,self.name, self.speed)\n",
    "    def get_id(self) :\n",
    "        return self.id\n",
    "    def get_name(self) :\n",
    "        return self.name\n",
    "    def get_speed(self) :\n",
    "        return self.speed"
   ]
  },
  {
   "cell_type": "code",
   "execution_count": 70,
   "id": "b6f74615-a458-4086-b3b7-4564cb3930ad",
   "metadata": {},
   "outputs": [
    {
     "name": "stdout",
     "output_type": "stream",
     "text": [
      "10 k5 150\n",
      "20 k7 150\n",
      "30 genesis 150\n",
      "20 k7 200\n",
      "<class '__main__.Car'>\n",
      "<class '__main__.Car'>\n"
     ]
    }
   ],
   "source": [
    "# print(id, name, speed) <-이렇게 하면 안됨\n",
    "c1 = Car('10', 'k5', 150) # 객체 생성\n",
    "c2 = Car('20', 'k7', 150)\n",
    "print(c1.id, c1.name, c1.speed)\n",
    "print(c2.id, c2.name, c2.speed)\n",
    "c1.id = '30'\n",
    "c1.name = 'genesis'\n",
    "c2.speed = 200\n",
    "\n",
    "c1.my_print() #클래스 내에서 함수로 객체를 만들어 놓고 뽑아내기 용이\n",
    "c2.my_print()\n",
    "print(type(c1))\n",
    "print(type(c2))"
   ]
  },
  {
   "cell_type": "code",
   "execution_count": 72,
   "id": "5af3184b-0e6a-464c-bcef-d50d2ba05f84",
   "metadata": {},
   "outputs": [
    {
     "name": "stdout",
     "output_type": "stream",
     "text": [
      "30\n",
      "20\n",
      "genesis\n",
      "k7\n",
      "150\n",
      "200\n"
     ]
    }
   ],
   "source": [
    "f = c1.get_id()\n",
    "print(f)\n",
    "g = c2.get_id()\n",
    "print(g)\n",
    "h = c1.get_name()\n",
    "print(h)\n",
    "j = c2.get_name()\n",
    "print(j)\n",
    "k = c1.get_speed()\n",
    "print(k)\n",
    "l = c2.get_speed()\n",
    "print(l)"
   ]
  },
  {
   "cell_type": "code",
   "execution_count": 81,
   "id": "f950c65d-429b-43cb-b264-fd935bb98f21",
   "metadata": {},
   "outputs": [
    {
     "data": {
      "text/plain": [
       "'30'"
      ]
     },
     "execution_count": 81,
     "metadata": {},
     "output_type": "execute_result"
    }
   ],
   "source": [
    "cars = [c1, c2]\n",
    "cars[0].get_id()"
   ]
  },
  {
   "cell_type": "code",
   "execution_count": 61,
   "id": "31c629fb-a445-4933-9264-14c6793770d0",
   "metadata": {},
   "outputs": [],
   "source": [
    "class Person() :\n",
    "    def __init__(self, a, b) : #클래스내에 있는 변수는 멤버변수라고 한다.\n",
    "        self.name = a\n",
    "        self.age = b"
   ]
  },
  {
   "cell_type": "code",
   "execution_count": 62,
   "id": "91ffae19-6e93-4bcd-b31e-b95117c6ef3f",
   "metadata": {},
   "outputs": [
    {
     "name": "stdout",
     "output_type": "stream",
     "text": [
      "최하민 26\n"
     ]
    }
   ],
   "source": [
    "p1 = Person('최하민',26)\n",
    "print(p1.name, p1.age)"
   ]
  },
  {
   "cell_type": "code",
   "execution_count": 170,
   "id": "fe24d394-d12d-4d7b-8601-c6f9b07d039e",
   "metadata": {},
   "outputs": [],
   "source": [
    "#학생클래스 객체 5개만들기 getter 함수 만들기 생성자만들기 총점함수만들기\n",
    "class Student() :\n",
    "    def __init__(self, name, age, kor, eng, math) :\n",
    "        self.name = name\n",
    "        self.age = age\n",
    "        self.kor = kor\n",
    "        self.eng = eng\n",
    "        self.math = math\n",
    "    \n",
    "    def get_name(self) :\n",
    "        return self.name\n",
    "    def get_age(self) :\n",
    "        return self.age\n",
    "    def get_kor(self) :\n",
    "        return self.kor\n",
    "    def get_eng(self) :\n",
    "        return self.eng\n",
    "    def get_math(self) :\n",
    "        return self.math\n",
    "    def get_sum(self) :\n",
    "        p = self.kor + self.eng + self.math\n",
    "        return p"
   ]
  },
  {
   "cell_type": "code",
   "execution_count": 173,
   "id": "e28b7d25-5935-4985-84b0-0e0eabf8a997",
   "metadata": {},
   "outputs": [
    {
     "name": "stdout",
     "output_type": "stream",
     "text": [
      "[215, 240, 245, 235, 205]\n",
      "1140\n"
     ]
    }
   ],
   "source": [
    "student1 = Student('최하민', 26, 90, 80, 45)\n",
    "student2 = Student('김종문', 26, 90, 55, 95)\n",
    "student3 = Student('윤재근', 26, 85, 85, 75)\n",
    "student4 = Student('강현수', 23, 90, 60, 85)\n",
    "student5 = Student('박하률', 23, 40, 80, 85)\n",
    "\n",
    "studentlist = [student1, student2, student3, student4, student5]\n",
    "\n",
    "in1 = []\n",
    "for m in studentlist :\n",
    "    op = 0\n",
    "    op = m.get_sum()\n",
    "    in1.append(op)\n",
    "    \n",
    "print(in1)\n",
    "print(sum(in1))"
   ]
  },
  {
   "cell_type": "code",
   "execution_count": null,
   "id": "7ffb3553-b1be-41a1-b882-e67ea12229b4",
   "metadata": {},
   "outputs": [],
   "source": []
  }
 ],
 "metadata": {
  "kernelspec": {
   "display_name": "Python 3 (ipykernel)",
   "language": "python",
   "name": "python3"
  },
  "language_info": {
   "codemirror_mode": {
    "name": "ipython",
    "version": 3
   },
   "file_extension": ".py",
   "mimetype": "text/x-python",
   "name": "python",
   "nbconvert_exporter": "python",
   "pygments_lexer": "ipython3",
   "version": "3.9.7"
  }
 },
 "nbformat": 4,
 "nbformat_minor": 5
}
