{
 "cells": [
  {
   "cell_type": "code",
   "execution_count": 45,
   "id": "35efd7ec-2d74-4890-87d5-cb11dd9fccc8",
   "metadata": {},
   "outputs": [
    {
     "name": "stdout",
     "output_type": "stream",
     "text": [
      "['1위유지닭가슴살상품접기', '2위상승펩시 제로NEW상품펼치기', '3위상승2022 탁상달력NEW상품펼치기', '4위상승kf94 마스크상품펼치기', '5위하락나이키상품펼치기']\n"
     ]
    }
   ],
   "source": [
    "import requests\n",
    "from bs4 import BeautifulSoup\n",
    "\n",
    "html = requests.get(\"https://search.shopping.naver.com/best/home?categoryCategoryId=ALL&categoryDemo=A00&categoryRootCategoryId=ALL&chartDemo=M02&chartRank=1&period=P1D&windowCategoryId=20000050&windowDemo=A00&windowRootCategoryId=20000050\")\n",
    "parsed = BeautifulSoup(html.content, 'html.parser')\n",
    "a = parsed.select_one('#__next > div > div._app_best_wrap__vbsWp > div.home_home_area__3mIcT > div:nth-child(1) > div.home_keyword_wrap__2Vbjz > ul')\n",
    "b = a.select(\"ul > li > a\")\n",
    "# c = b.find_next_sibling(\"e\")\n",
    "li_list= []\n",
    "for n in b :\n",
    "    li_list.append(n.get_text())\n",
    "    \n",
    "    \n",
    "print(li_list)"
   ]
  }
 ],
 "metadata": {
  "kernelspec": {
   "display_name": "Python 3 (ipykernel)",
   "language": "python",
   "name": "python3"
  },
  "language_info": {
   "codemirror_mode": {
    "name": "ipython",
    "version": 3
   },
   "file_extension": ".py",
   "mimetype": "text/x-python",
   "name": "python",
   "nbconvert_exporter": "python",
   "pygments_lexer": "ipython3",
   "version": "3.9.7"
  }
 },
 "nbformat": 4,
 "nbformat_minor": 5
}
