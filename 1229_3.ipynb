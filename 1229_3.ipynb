{
 "cells": [
  {
   "cell_type": "code",
   "execution_count": 166,
   "id": "badfeba6-b14d-4283-9fe1-7767f1e0d9e4",
   "metadata": {},
   "outputs": [],
   "source": [
    "def my_function(n, m) :\n",
    "    print('\\n'+('-'* n))\n",
    "    print(m)\n",
    "    print('-'* n)\n",
    "    #return 0"
   ]
  },
  {
   "cell_type": "code",
   "execution_count": 167,
   "id": "6f97767f-caa3-42e6-b200-15c8e7659732",
   "metadata": {},
   "outputs": [
    {
     "name": "stdin",
     "output_type": "stream",
     "text": [
      " 30\n",
      " hh\n"
     ]
    },
    {
     "name": "stdout",
     "output_type": "stream",
     "text": [
      "\n",
      "------------------------------\n",
      "hh\n",
      "------------------------------\n",
      "\n",
      "------------------------------\n",
      "hh\n",
      "------------------------------\n"
     ]
    }
   ],
   "source": [
    "x =int(input(''))\n",
    "msg = input('')\n",
    "my_function(x, msg)\n",
    "my_function(x, msg)"
   ]
  },
  {
   "cell_type": "code",
   "execution_count": 33,
   "id": "00d0b9b3-13d8-4692-8321-8cae777c4382",
   "metadata": {},
   "outputs": [
    {
     "name": "stdout",
     "output_type": "stream",
     "text": [
      "-----\n",
      "my function\n",
      "-----\n",
      "-----\n",
      "my function\n",
      "-----\n",
      "함수호출 끝\n"
     ]
    }
   ],
   "source": [
    "my_function(n)\n",
    "my_function(n)\n",
    "print('함수호출 끝')"
   ]
  },
  {
   "cell_type": "code",
   "execution_count": 150,
   "id": "e351df73-576f-4d24-bf99-51834ce6e2ec",
   "metadata": {},
   "outputs": [],
   "source": [
    "def my_sum(n, m) :\n",
    "    print('\\n덧셈 결과값은 %d + %d = %d 입니다.\\n'%(n,m,n+m))"
   ]
  },
  {
   "cell_type": "code",
   "execution_count": 151,
   "id": "f33b2c27-dd58-43f2-846e-300aa5045a28",
   "metadata": {},
   "outputs": [],
   "source": [
    "def my_minus(n, m) :\n",
    "    if n > m :\n",
    "        print('뺄셈 결과값은 %d - %d = %d 입니다.'%(n,m,n-m))\n",
    "    else :\n",
    "        print('큰수에서 작은 수를 뺀 값입니다.\\n뺄셈 결과값은 %d - %d = %d 입니다.\\n'%(m,n,m-n))\n",
    "    "
   ]
  },
  {
   "cell_type": "code",
   "execution_count": 155,
   "id": "dba3d2de-0a15-44ab-9db1-2d25665eac6a",
   "metadata": {},
   "outputs": [],
   "source": [
    "def my_multiply(n, m) :\n",
    "    print('곱셈 결과값은 %d * %d = %d 입니다.\\n'%(n,m,n*m))"
   ]
  },
  {
   "cell_type": "code",
   "execution_count": 156,
   "id": "2d271b9e-19ff-4eb7-92e0-caf98812e056",
   "metadata": {},
   "outputs": [],
   "source": [
    "def my_divide(n, m) :\n",
    "    if n > m :\n",
    "        print('나눗셈 결과값은 %d / %d = %d 입니다.'%(n,m,n/m))\n",
    "    else :\n",
    "        print('큰수에서 작은 수를 나눈 값입니다.\\n나눗셈 결과값은 %d / %d = %d 입니다.\\n'%(m,n,m-n))"
   ]
  },
  {
   "cell_type": "code",
   "execution_count": 157,
   "id": "7b77c7cc-ca0a-4afa-96ff-78b3cd2b7472",
   "metadata": {},
   "outputs": [
    {
     "name": "stdin",
     "output_type": "stream",
     "text": [
      "\t 3\n",
      "\t 5\n"
     ]
    },
    {
     "name": "stdout",
     "output_type": "stream",
     "text": [
      "\n",
      "덧셈 결과값은 3 + 5 = 8 입니다.\n",
      "\n",
      "큰수에서 작은 수를 뺀 값입니다.\n",
      "뺄셈 결과값은 5 - 3 = 2 입니다.\n",
      "\n",
      "곱셈 결과값은 3 * 5 = 15 입니다.\n",
      "\n",
      "큰수에서 작은 수를 나눈 값입니다.\n",
      "나눗셈 결과값은 5 / 3 = 2 입니다.\n",
      "\n"
     ]
    }
   ],
   "source": [
    "one = int(input('\\t'))\n",
    "two = int(input('\\t'))\n",
    "my_sum(one, two)\n",
    "my_minus(one, two)\n",
    "my_multiply(one, two)\n",
    "my_divide(one, two)"
   ]
  },
  {
   "cell_type": "code",
   "execution_count": null,
   "id": "edd6f932-bb2d-4fd6-be95-14176aa3e753",
   "metadata": {},
   "outputs": [],
   "source": []
  }
 ],
 "metadata": {
  "kernelspec": {
   "display_name": "Python 3 (ipykernel)",
   "language": "python",
   "name": "python3"
  },
  "language_info": {
   "codemirror_mode": {
    "name": "ipython",
    "version": 3
   },
   "file_extension": ".py",
   "mimetype": "text/x-python",
   "name": "python",
   "nbconvert_exporter": "python",
   "pygments_lexer": "ipython3",
   "version": "3.9.7"
  }
 },
 "nbformat": 4,
 "nbformat_minor": 5
}
