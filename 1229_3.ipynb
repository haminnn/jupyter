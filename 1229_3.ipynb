{
 "cells": [
  {
   "cell_type": "code",
   "execution_count": 166,
   "id": "badfeba6-b14d-4283-9fe1-7767f1e0d9e4",
   "metadata": {},
   "outputs": [],
   "source": [
    "def my_function(n, m) :\n",
    "    print('\\n'+('-'* n))\n",
    "    print(m)\n",
    "    print('-'* n)\n",
    "    #return 0"
   ]
  },
  {
   "cell_type": "code",
   "execution_count": 167,
   "id": "6f97767f-caa3-42e6-b200-15c8e7659732",
   "metadata": {},
   "outputs": [
    {
     "name": "stdin",
     "output_type": "stream",
     "text": [
      " 30\n",
      " hh\n"
     ]
    },
    {
     "name": "stdout",
     "output_type": "stream",
     "text": [
      "\n",
      "------------------------------\n",
      "hh\n",
      "------------------------------\n",
      "\n",
      "------------------------------\n",
      "hh\n",
      "------------------------------\n"
     ]
    }
   ],
   "source": [
    "x =int(input(''))\n",
    "msg = input('')\n",
    "my_function(x, msg)\n",
    "my_function(x, msg)"
   ]
  },
  {
   "cell_type": "code",
   "execution_count": 33,
   "id": "00d0b9b3-13d8-4692-8321-8cae777c4382",
   "metadata": {},
   "outputs": [
    {
     "name": "stdout",
     "output_type": "stream",
     "text": [
      "-----\n",
      "my function\n",
      "-----\n",
      "-----\n",
      "my function\n",
      "-----\n",
      "함수호출 끝\n"
     ]
    }
   ],
   "source": [
    "my_function(n)\n",
    "my_function(n)\n",
    "print('함수호출 끝')"
   ]
  },
  {
   "cell_type": "code",
   "execution_count": 150,
   "id": "e351df73-576f-4d24-bf99-51834ce6e2ec",
   "metadata": {},
   "outputs": [],
   "source": [
    "def my_sum(n, m) :\n",
    "    print('\\n덧셈 결과값은 %d + %d = %d 입니다.\\n'%(n,m,n+m))"
   ]
  },
  {
   "cell_type": "code",
   "execution_count": 151,
   "id": "f33b2c27-dd58-43f2-846e-300aa5045a28",
   "metadata": {},
   "outputs": [],
   "source": [
    "def my_minus(n, m) :\n",
    "    if n > m :\n",
    "        print('뺄셈 결과값은 %d - %d = %d 입니다.'%(n,m,n-m))\n",
    "    else :\n",
    "        print('큰수에서 작은 수를 뺀 값입니다.\\n뺄셈 결과값은 %d - %d = %d 입니다.\\n'%(m,n,m-n))\n",
    "    "
   ]
  },
  {
   "cell_type": "code",
   "execution_count": 155,
   "id": "dba3d2de-0a15-44ab-9db1-2d25665eac6a",
   "metadata": {},
   "outputs": [],
   "source": [
    "def my_multiply(n, m) :\n",
    "    print('곱셈 결과값은 %d * %d = %d 입니다.\\n'%(n,m,n*m))"
   ]
  },
  {
   "cell_type": "code",
   "execution_count": 156,
   "id": "2d271b9e-19ff-4eb7-92e0-caf98812e056",
   "metadata": {},
   "outputs": [],
   "source": [
    "def my_divide(n, m) :\n",
    "    if n > m :\n",
    "        print('나눗셈 결과값은 %d / %d = %d 입니다.'%(n,m,n/m))\n",
    "    else :\n",
    "        print('큰수에서 작은 수를 나눈 값입니다.\\n나눗셈 결과값은 %d / %d = %d 입니다.\\n'%(m,n,m-n))"
   ]
  },
  {
   "cell_type": "code",
   "execution_count": 157,
   "id": "7b77c7cc-ca0a-4afa-96ff-78b3cd2b7472",
   "metadata": {},
   "outputs": [
    {
     "name": "stdin",
     "output_type": "stream",
     "text": [
      "\t 3\n",
      "\t 5\n"
     ]
    },
    {
     "name": "stdout",
     "output_type": "stream",
     "text": [
      "\n",
      "덧셈 결과값은 3 + 5 = 8 입니다.\n",
      "\n",
      "큰수에서 작은 수를 뺀 값입니다.\n",
      "뺄셈 결과값은 5 - 3 = 2 입니다.\n",
      "\n",
      "곱셈 결과값은 3 * 5 = 15 입니다.\n",
      "\n",
      "큰수에서 작은 수를 나눈 값입니다.\n",
      "나눗셈 결과값은 5 / 3 = 2 입니다.\n",
      "\n"
     ]
    }
   ],
   "source": [
    "one = int(input('\\t'))\n",
    "two = int(input('\\t'))\n",
    "my_sum(one, two)\n",
    "my_minus(one, two)\n",
    "my_multiply(one, two)\n",
    "my_divide(one, two)"
   ]
  },
  {
   "cell_type": "code",
   "execution_count": 56,
   "id": "edd6f932-bb2d-4fd6-be95-14176aa3e753",
   "metadata": {},
   "outputs": [],
   "source": [
    "#1부터 넣은숫자값의합\n",
    "def sig_ma(n) :\n",
    "    i = 1\n",
    "    sigma = 0\n",
    "    while i <= n :\n",
    "        sigma = sigma + i\n",
    "        i = i + 1\n",
    "    print('1부터 %d 까지 넣은 숫자의 합은 %d입니다.'%(n, sigma))"
   ]
  },
  {
   "cell_type": "code",
   "execution_count": 57,
   "id": "ce69e74c-2805-47de-86d0-fba0eb33a0e8",
   "metadata": {},
   "outputs": [
    {
     "name": "stdin",
     "output_type": "stream",
     "text": [
      " 3\n"
     ]
    },
    {
     "name": "stdout",
     "output_type": "stream",
     "text": [
      "1부터 3 까지 넣은 숫자의 합은 6입니다.\n"
     ]
    }
   ],
   "source": [
    "numberin = int(input(''))\n",
    "sig_ma(numberin)"
   ]
  },
  {
   "cell_type": "code",
   "execution_count": 69,
   "id": "fda24049-30e1-42b8-b9cf-a4aefa07ad8d",
   "metadata": {},
   "outputs": [],
   "source": [
    "def print_max(n, m, l) :\n",
    "    if n > m and n > l :\n",
    "        print('최대숫자는 %d입니다.' %n)\n",
    "    elif n == m and n > l :\n",
    "        print('최대숫자가 두개입니다. %d' %n)\n",
    "    elif n == l and n > m :\n",
    "        print('최대숫자가 두개입니다. %d' %n)\n",
    "    elif m > n and m > l :\n",
    "        print('최대숫자는 %d입니다.' %m)\n",
    "    elif m == n  and m > l :\n",
    "        print('최대숫자가 두개입니다. %d' %m)\n",
    "    elif m == l and m > n :\n",
    "        print('최대숫자가 두개입니다. %d' %m)\n",
    "    elif l > m and l > n :\n",
    "        print('최대숫자는 %d입니다.' %l)\n",
    "    elif l == n and l > n :\n",
    "        print('최대숫자가 두개입니다. %d' %l)\n",
    "    elif l == m and l > m :\n",
    "        print('최대숫자가 두개입니다. %d' %l)\n",
    "    else :\n",
    "        print('모두 같습니다.')"
   ]
  },
  {
   "cell_type": "code",
   "execution_count": 70,
   "id": "ceff52f6-959f-4153-a5f4-b491eb963896",
   "metadata": {},
   "outputs": [
    {
     "name": "stdin",
     "output_type": "stream",
     "text": [
      "1. 숫자를 입력하세요 10\n",
      "2. 숫자를 입력하세요 10\n",
      "3. 숫자를 입력하세요 10\n"
     ]
    },
    {
     "name": "stdout",
     "output_type": "stream",
     "text": [
      "모두 같습니다.\n"
     ]
    }
   ],
   "source": [
    "first_number = int(input('1. 숫자를 입력하세요'))\n",
    "second_number = int(input('2. 숫자를 입력하세요'))\n",
    "third_number = int(input('3. 숫자를 입력하세요'))\n",
    "\n",
    "print_max(first_number, second_number, third_number)"
   ]
  },
  {
   "cell_type": "code",
   "execution_count": 82,
   "id": "44686a26-bb6b-4bba-8c00-6be863f600d2",
   "metadata": {},
   "outputs": [],
   "source": [
    "def area(a) :\n",
    "    if a == 1 :\n",
    "        width = int(input('가로길이 를 입력하세요'))\n",
    "        vertical = int(input('세로길이 를 입력하세요'))\n",
    "        figure_area = width*vertical*(1/2)\n",
    "        print(figure_area)\n",
    "        \n",
    "    if a == 2 :\n",
    "        radius = int(input('반지름을 입력하세요'))\n",
    "        figure_area = radius * 3.14\n",
    "        print(float(figure_area))\n",
    "    if a == 3 :\n",
    "        length = int(input('한변의 길이를 입력하세요'))\n",
    "        figure_area = length**2\n",
    "        print(figure_area) \n",
    "    if a == 4 :\n",
    "        width = int(input('가로길이 를 입력하세요'))\n",
    "        vertical = int(input('세로길이 를 입력하세요'))\n",
    "        figure_area = width*vertical\n",
    "        print(figure_area)\n",
    "   # width*vertical*(1/2)\n",
    "   # radius * 3.14\n",
    "  #  length * length\n",
    "   # width*vertica"
   ]
  },
  {
   "cell_type": "code",
   "execution_count": 84,
   "id": "bfcc632f-a807-424d-913c-46e8a2dc9ed0",
   "metadata": {},
   "outputs": [
    {
     "name": "stdin",
     "output_type": "stream",
     "text": [
      "숫자를 입력하세요 4\n",
      "가로길이 를 입력하세요 2\n",
      "세로길이 를 입력하세요 3\n"
     ]
    },
    {
     "name": "stdout",
     "output_type": "stream",
     "text": [
      "6\n"
     ]
    }
   ],
   "source": [
    "figure_number = int(input('숫자를 입력하세요'))\n",
    "area(figure_number)"
   ]
  },
  {
   "cell_type": "code",
   "execution_count": 56,
   "id": "40157ac7-aadb-40f7-a2e4-577be351bb5a",
   "metadata": {},
   "outputs": [],
   "source": [
    "def my_add(a, b) :\n",
    "    y = a + b\n",
    "    return y"
   ]
  },
  {
   "cell_type": "code",
   "execution_count": 57,
   "id": "af14db50-3dd5-4de3-a25f-4f4fa5ba500a",
   "metadata": {},
   "outputs": [
    {
     "data": {
      "text/plain": [
       "30"
      ]
     },
     "execution_count": 57,
     "metadata": {},
     "output_type": "execute_result"
    }
   ],
   "source": [
    "my_add(10, 20)"
   ]
  },
  {
   "cell_type": "code",
   "execution_count": 70,
   "id": "66f96569-bbcb-41f3-b08d-6cc0e8d8b478",
   "metadata": {},
   "outputs": [],
   "source": [
    "def my_evenodd(a) :\n",
    "    if a%2 == 0 :\n",
    "        n = '짝수입니다.'\n",
    "    else :\n",
    "        n = '홀수입니다.'\n",
    "    return n"
   ]
  },
  {
   "cell_type": "code",
   "execution_count": 71,
   "id": "96101a89-44a1-4b09-9075-55c48c490ee8",
   "metadata": {},
   "outputs": [
    {
     "name": "stdin",
     "output_type": "stream",
     "text": [
      "숫자를 입력하세요 5\n"
     ]
    },
    {
     "data": {
      "text/plain": [
       "'홀수입니다.'"
      ]
     },
     "execution_count": 71,
     "metadata": {},
     "output_type": "execute_result"
    }
   ],
   "source": [
    "numberin = int(input('숫자를 입력하세요'))\n",
    "my_evenodd(numberin)"
   ]
  },
  {
   "cell_type": "code",
   "execution_count": 83,
   "id": "ab70fc76-8e69-473f-b2ef-52bc40983b32",
   "metadata": {},
   "outputs": [],
   "source": [
    "def my_addsub(a, b) :\n",
    "    add = a + b\n",
    "    sub = a - b\n",
    "    return add, sub"
   ]
  },
  {
   "cell_type": "code",
   "execution_count": 84,
   "id": "ed83c2f3-462f-49d5-bda6-18b6e1fc07cd",
   "metadata": {},
   "outputs": [
    {
     "name": "stdout",
     "output_type": "stream",
     "text": [
      "(15, 5)\n"
     ]
    }
   ],
   "source": [
    "y = my_addsub(10, 5)\n",
    "print(y)"
   ]
  },
  {
   "cell_type": "code",
   "execution_count": 150,
   "id": "958bc350-9d6b-414c-9ed8-9fa074686065",
   "metadata": {},
   "outputs": [],
   "source": [
    "#1. 함수를 만들어서 리스트로 값을 받은다음 받은 리스트 값 중 짝수만 노출되게 print\n",
    "\n",
    "#2. 함수를 만들어서 리스트로 값을 받은 다음 받은 리스트 값 중에 홀수를 추출해서 홀수를 모두 더한 총합을 print"
   ]
  },
  {
   "cell_type": "code",
   "execution_count": 205,
   "id": "7b2e4252-36b3-4211-83fc-f9626b17254d",
   "metadata": {},
   "outputs": [],
   "source": [
    "def list_even(n) :\n",
    "    list_1 = []\n",
    "    for m in n :\n",
    "        if (m % 2) == 0 :\n",
    "            list_1.append(m)\n",
    "    print(list_1)\n",
    "    return list_1"
   ]
  },
  {
   "cell_type": "code",
   "execution_count": 206,
   "id": "174f872f-4fc1-432c-a489-680c2ac29d0c",
   "metadata": {},
   "outputs": [],
   "source": [
    "def list_odd(n) :\n",
    "    list_2 = []\n",
    "    for m in n :\n",
    "        if (m % 2) == 1 :\n",
    "            list_2.append(m)\n",
    "    print(list_2)\n",
    "    return list_2"
   ]
  },
  {
   "cell_type": "code",
   "execution_count": 211,
   "id": "84ca59f5-eb0f-40cb-bc2e-bdf910a12f31",
   "metadata": {},
   "outputs": [],
   "source": [
    "def list_sum(n) :\n",
    "    odd_sum = 0\n",
    "    for m in n :\n",
    "        odd_sum = odd_sum + m\n",
    "    print(odd_sum)\n",
    "    return odd_sum"
   ]
  },
  {
   "cell_type": "code",
   "execution_count": 213,
   "id": "ea3daa96-0216-48e7-be35-c67a5b6d7149",
   "metadata": {},
   "outputs": [
    {
     "name": "stdin",
     "output_type": "stream",
     "text": [
      "리스트 값을 입력해주세요 11\n",
      "리스트 값을 입력해주세요 12\n",
      "리스트 값을 입력해주세요 13\n",
      "리스트 값을 입력해주세요 14\n",
      "리스트 값을 입력해주세요 15\n"
     ]
    },
    {
     "name": "stdout",
     "output_type": "stream",
     "text": [
      "[12, 14]\n",
      "[11, 13, 15]\n",
      "26\n",
      "39\n"
     ]
    }
   ],
   "source": [
    "my_listfile = []\n",
    "for n in range(5) :\n",
    "    listvalue = int(input('리스트 값을 입력해주세요'))\n",
    "    my_listfile.append(listvalue)\n",
    "\n",
    "a = list_even(my_listfile)\n",
    "b = list_odd(my_listfile)\n",
    "c = list_sum(a)\n",
    "c = list_sum(b)"
   ]
  },
  {
   "cell_type": "code",
   "execution_count": null,
   "id": "ec0187a1-274b-4a72-b635-329ba85e6de5",
   "metadata": {},
   "outputs": [],
   "source": []
  }
 ],
 "metadata": {
  "kernelspec": {
   "display_name": "Python 3 (ipykernel)",
   "language": "python",
   "name": "python3"
  },
  "language_info": {
   "codemirror_mode": {
    "name": "ipython",
    "version": 3
   },
   "file_extension": ".py",
   "mimetype": "text/x-python",
   "name": "python",
   "nbconvert_exporter": "python",
   "pygments_lexer": "ipython3",
   "version": "3.9.7"
  }
 },
 "nbformat": 4,
 "nbformat_minor": 5
}
