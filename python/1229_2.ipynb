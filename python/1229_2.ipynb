{
 "cells": [
  {
   "cell_type": "code",
   "execution_count": 13,
   "id": "91e6e281-6c97-4ad7-bd88-828ea1bd2c62",
   "metadata": {},
   "outputs": [
    {
     "name": "stdout",
     "output_type": "stream",
     "text": [
      "<class 'set'>\n",
      "{'bmw'}\n",
      "{'bmw'}\n",
      "{'samsung', 'kia', 'bmw'}\n",
      "{'banana', 'apple', 'mango'}\n",
      "{'banana', 'mango'}\n",
      "{'banana'}\n"
     ]
    }
   ],
   "source": [
    "my_fruits = {}\n",
    "my_car = set()\n",
    "print(type(my_car))\n",
    "my_car.add('bmw') #set 함수의 항목을 추가\n",
    "print(my_car)\n",
    "my_car.add('bmw')\n",
    "print(my_car) #중복된 값은 배제됨\n",
    "my_car.add('samsung')\n",
    "my_car.add('kia')\n",
    "print(my_car)\n",
    "thisset = {'apple', 'banana', 'mango'}\n",
    "print(thisset)\n",
    "thisset.remove('apple')\n",
    "print(thisset)\n",
    "thisset.discard('mango')\n",
    "print(thisset)"
   ]
  },
  {
   "cell_type": "code",
   "execution_count": 144,
   "id": "b8aed0f1-3195-44de-80c2-5d2ca62cb00a",
   "metadata": {},
   "outputs": [
    {
     "name": "stdin",
     "output_type": "stream",
     "text": [
      "리스트에 점수를 추가하세요 20\n",
      "리스트에 점수를 추가하세요 20\n",
      "리스트에 점수를 추가하세요 20\n",
      "리스트에 점수를 추가하세요 20\n",
      "리스트에 점수를 추가하세요 20\n"
     ]
    },
    {
     "name": "stdout",
     "output_type": "stream",
     "text": [
      "[20, 20, 20, 20, 20]\n",
      "100\n"
     ]
    }
   ],
   "source": [
    "score = []\n",
    "i = 0\n",
    "sum1 = 0\n",
    "j = 0\n",
    "while i < 5 : \n",
    "    add = int(input('리스트에 점수를 추가하세요'))\n",
    "    score.append(add)\n",
    "    i = i + 1\n",
    "while j < 5 :\n",
    "    sum1 = sum1 + score[j]\n",
    "    j = j + 1\n",
    "\n",
    "\n",
    "print(score)\n",
    "print(sum1)"
   ]
  },
  {
   "cell_type": "code",
   "execution_count": 78,
   "id": "70a4955d-2120-426c-a722-ca2e275c49f3",
   "metadata": {},
   "outputs": [
    {
     "name": "stdin",
     "output_type": "stream",
     "text": [
      "1번째 학생의 점수를 추가하세요 10\n",
      "2번째 학생의 점수를 추가하세요 10\n",
      "3번째 학생의 점수를 추가하세요 10\n",
      "4번째 학생의 점수를 추가하세요 10\n",
      "5번째 학생의 점수를 추가하세요 10\n"
     ]
    },
    {
     "name": "stdout",
     "output_type": "stream",
     "text": [
      "[10, 10, 10, 10, 10]\n",
      "50\n"
     ]
    }
   ],
   "source": [
    "score = []\n",
    "for n in range(1,6,1) :\n",
    "    add = int(input('%d번째 학생의 점수를 추가하세요' %n))\n",
    "    score.append(add)\n",
    "a = 0\n",
    "for x in score :\n",
    "    a = a + x\n",
    "        \n",
    "print(score)\n",
    "print(a)"
   ]
  },
  {
   "cell_type": "code",
   "execution_count": 145,
   "id": "665f4a55-81f0-440b-81b5-3c6bd725efcc",
   "metadata": {},
   "outputs": [
    {
     "name": "stdout",
     "output_type": "stream",
     "text": [
      "{'name': '한사람', 'age': '한사람', 'gender': True}\n",
      "<class 'dict'>\n",
      "3\n"
     ]
    }
   ],
   "source": [
    "mydict1 ={'name' : '한사람', \n",
    "          'age' : 22, \n",
    "          'age' : '한사람', \n",
    "          'gender' : True}\n",
    "mydict2 = dict()\n",
    "print(mydict1)\n",
    "print(type(mydict1))\n",
    "print(len(mydict1))"
   ]
  },
  {
   "cell_type": "code",
   "execution_count": null,
   "id": "21ab40e8-b187-4ddf-80ea-860e4e5b18a8",
   "metadata": {},
   "outputs": [],
   "source": []
  }
 ],
 "metadata": {
  "kernelspec": {
   "display_name": "Python 3 (ipykernel)",
   "language": "python",
   "name": "python3"
  },
  "language_info": {
   "codemirror_mode": {
    "name": "ipython",
    "version": 3
   },
   "file_extension": ".py",
   "mimetype": "text/x-python",
   "name": "python",
   "nbconvert_exporter": "python",
   "pygments_lexer": "ipython3",
   "version": "3.9.7"
  }
 },
 "nbformat": 4,
 "nbformat_minor": 5
}
