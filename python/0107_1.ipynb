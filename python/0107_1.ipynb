{
 "cells": [
  {
   "cell_type": "code",
   "execution_count": 28,
   "id": "009a838e-0639-4d3f-9a7c-f519b1a0c9a5",
   "metadata": {},
   "outputs": [
    {
     "name": "stdout",
     "output_type": "stream",
     "text": [
      "[[7 6 1]\n",
      " [1 9 4]]\n",
      "---------------\n",
      "[[1 9 9]\n",
      " [4 2 4]]\n",
      "---------------\n",
      "[[ 8 15 10]\n",
      " [ 5 11  8]]\n",
      "---------------\n",
      "[[ 6 -3 -8]\n",
      " [-3  7  0]]\n",
      "---------------\n",
      "[[ 7 54  9]\n",
      " [ 4 18 16]]\n",
      "---------------\n",
      "[[7.         0.66666667 0.11111111]\n",
      " [0.25       4.5        1.        ]]\n",
      "---------------\n",
      "[[35 30  5]\n",
      " [ 5 45 20]]\n",
      "---------------\n",
      "[[ True False False]\n",
      " [False  True False]]\n",
      "---------------\n"
     ]
    }
   ],
   "source": [
    "import numpy as np\n",
    "a = np.random.randint(1,10,(2,3))\n",
    "b = np.random.randint(1,10,(2,3))\n",
    "print(a)\n",
    "print('-'*15)\n",
    "\n",
    "print(b)\n",
    "print('-'*15)\n",
    "\n",
    "print(a+b)\n",
    "print('-'*15)\n",
    "\n",
    "print(a-b)\n",
    "print('-'*15)\n",
    "\n",
    "print(a*b)\n",
    "print('-'*15)\n",
    "\n",
    "print(a/b)\n",
    "print('-'*15)\n",
    "\n",
    "print(a*5)\n",
    "print('-'*15)\n",
    "\n",
    "print(a>b)\n",
    "print('-'*15)"
   ]
  },
  {
   "cell_type": "code",
   "execution_count": 31,
   "id": "92201352-4016-45e8-8ba0-caa8fcfa9250",
   "metadata": {},
   "outputs": [
    {
     "name": "stdout",
     "output_type": "stream",
     "text": [
      "['apple' 'banana' 'cherry']\n"
     ]
    }
   ],
   "source": [
    "arr = np.array(['banana','cherry','apple'])\n",
    "print(np.sort(arr))"
   ]
  },
  {
   "cell_type": "code",
   "execution_count": 35,
   "id": "9dc2faaf-84e3-414e-ada9-ed72fac712fd",
   "metadata": {},
   "outputs": [
    {
     "name": "stdout",
     "output_type": "stream",
     "text": [
      "[[[ 1  2  3]\n",
      "  [ 4  5  6]]\n",
      "\n",
      " [[ 7  8  9]\n",
      "  [10 11 12]]\n",
      "\n",
      " [[13 14 15]\n",
      "  [16 17 18]]]\n",
      "9.5\n",
      "171\n",
      "5.188127472091127\n",
      "26.916666666666668\n",
      "1\n",
      "18\n"
     ]
    }
   ],
   "source": [
    "arr = np.array([[[1,2,3],[4,5,6]],[[7,8,9],[10,11,12]],[[13,14,15],[16,17,18]]])\n",
    "print(arr)\n",
    "print(arr.mean())\n",
    "print(arr.sum())\n",
    "print(arr.std())\n",
    "print(arr.var())\n",
    "print(arr.min())\n",
    "print(arr.max())"
   ]
  },
  {
   "cell_type": "code",
   "execution_count": 41,
   "id": "9a849d76-ec47-4c91-90ca-fcf6ccf03a93",
   "metadata": {},
   "outputs": [
    {
     "name": "stdout",
     "output_type": "stream",
     "text": [
      "[0.         1.         1.41421356 1.73205081 2.         2.23606798\n",
      " 2.44948974 2.64575131 2.82842712 3.        ]\n",
      "[1.00000000e+00 2.71828183e+00 7.38905610e+00 2.00855369e+01\n",
      " 5.45981500e+01 1.48413159e+02 4.03428793e+02 1.09663316e+03\n",
      " 2.98095799e+03 8.10308393e+03]\n"
     ]
    }
   ],
   "source": [
    "arr = np.arange(10)\n",
    "\n",
    "print(np.sqrt(arr))\n",
    "print(np.exp(arr))"
   ]
  },
  {
   "cell_type": "code",
   "execution_count": 43,
   "id": "14512816-0bcf-4da9-a47b-c5c01e548839",
   "metadata": {},
   "outputs": [],
   "source": [
    "a = np.random.randint(1,10,(2,3))\n",
    "\n",
    "np.savetxt(\"./data/score.csv\",a)"
   ]
  },
  {
   "cell_type": "code",
   "execution_count": null,
   "id": "de67e93f-5d0e-4919-8f08-e698293c0ab5",
   "metadata": {},
   "outputs": [],
   "source": []
  }
 ],
 "metadata": {
  "kernelspec": {
   "display_name": "Python 3 (ipykernel)",
   "language": "python",
   "name": "python3"
  },
  "language_info": {
   "codemirror_mode": {
    "name": "ipython",
    "version": 3
   },
   "file_extension": ".py",
   "mimetype": "text/x-python",
   "name": "python",
   "nbconvert_exporter": "python",
   "pygments_lexer": "ipython3",
   "version": "3.9.7"
  }
 },
 "nbformat": 4,
 "nbformat_minor": 5
}
