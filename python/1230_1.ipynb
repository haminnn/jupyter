{
 "cells": [
  {
   "cell_type": "code",
   "execution_count": 24,
   "id": "ef77d03a-232a-4530-b059-abb46440ce46",
   "metadata": {},
   "outputs": [],
   "source": [
    "def my_family(*name) :\n",
    "    for n in name :\n",
    "        print(n)"
   ]
  },
  {
   "cell_type": "code",
   "execution_count": 89,
   "id": "bb8182b1-5bd1-4e01-8f66-71c8fc082e5e",
   "metadata": {},
   "outputs": [
    {
     "name": "stdout",
     "output_type": "stream",
     "text": [
      "하나\n",
      "하나\n",
      "둘\n",
      "['하나', '둘', '셋']\n",
      "{'둘', '하나', '셋'}\n",
      "['사과', '배', '포도']\n"
     ]
    }
   ],
   "source": [
    "fruits = ['사과', '배', '포도']\n",
    "my_family('하나')\n",
    "my_family('하나','둘')\n",
    "my_family(['하나','둘', '셋'])\n",
    "my_family({'하나','둘', '셋'})\n",
    "my_family(fruits)"
   ]
  },
  {
   "cell_type": "code",
   "execution_count": 47,
   "id": "d545c278-c714-45e1-8919-3ddda72734b5",
   "metadata": {},
   "outputs": [],
   "source": [
    "def my_family2(**name) :\n",
    "    #print(type(name))\n",
    "    print(name['fname'])"
   ]
  },
  {
   "cell_type": "code",
   "execution_count": 48,
   "id": "a9b43b78-089b-4fc1-85a5-1462c1f76a95",
   "metadata": {},
   "outputs": [
    {
     "name": "stdout",
     "output_type": "stream",
     "text": [
      "hamin\n"
     ]
    }
   ],
   "source": [
    "my_family2(fname = 'hamin', lname = 'saebyoel')"
   ]
  },
  {
   "cell_type": "code",
   "execution_count": 65,
   "id": "af7d0098-48be-4b61-a735-2e4f5df0c7b9",
   "metadata": {},
   "outputs": [],
   "source": [
    "def my_sum(*n) : #튜플안에 숫자를 원하는 갯수만큼 총 합계를 내는 함수 정의\n",
    "    sum1 = 0\n",
    "    for a in n :\n",
    "        sum1 = sum1 + a\n",
    "    print(sum1)"
   ]
  },
  {
   "cell_type": "code",
   "execution_count": 67,
   "id": "a3bd2443-0693-46b6-81d4-fb4994cdab91",
   "metadata": {},
   "outputs": [
    {
     "name": "stdout",
     "output_type": "stream",
     "text": [
      "10\n"
     ]
    }
   ],
   "source": [
    "my_sum(1,2,3,4)"
   ]
  },
  {
   "cell_type": "code",
   "execution_count": 83,
   "id": "415914be-6cff-4952-923a-ad6f506ef375",
   "metadata": {},
   "outputs": [],
   "source": [
    "def my_country(state,country = 'Korea') : # 매개변수 값을 지정해주고 함수 호출할 때 빈 값을 넣으면 지정해준 매개변수 값이 출력된다. 기본값지정 시 맨 뒤에 지정\n",
    "    print(state,country)"
   ]
  },
  {
   "cell_type": "code",
   "execution_count": 85,
   "id": "3388ed29-09a3-4a08-bdbc-d8a6fbdff699",
   "metadata": {},
   "outputs": [
    {
     "name": "stdout",
     "output_type": "stream",
     "text": [
      "Brazil Korea\n",
      "Seoul anseong\n"
     ]
    }
   ],
   "source": [
    "my_country('Brazil')\n",
    "my_country('Seoul', 'anseong')\n",
    "#my_country() - error"
   ]
  },
  {
   "cell_type": "code",
   "execution_count": 160,
   "id": "2fdf4903-be27-4afd-8432-badd82f3ab16",
   "metadata": {},
   "outputs": [],
   "source": [
    "def my_input_sum(n) :\n",
    "    sum1 = 0\n",
    "    i = 0\n",
    "    while i < len(n)  :     \n",
    "        sum1 = sum1 + n[i]\n",
    "        i = i + 1\n",
    "    return sum1"
   ]
  },
  {
   "cell_type": "code",
   "execution_count": 163,
   "id": "0bcb3651-c222-40f0-b1a0-096abdc45af6",
   "metadata": {},
   "outputs": [],
   "source": [
    "def my_input_num(n) :\n",
    "    list_num = []\n",
    "    i = 0\n",
    "    while i < n :\n",
    "        ab = int(input('숫자를 입력하세요'))\n",
    "        list_num.append(ab)\n",
    "        i = i + 1\n",
    "    return list_num"
   ]
  },
  {
   "cell_type": "code",
   "execution_count": 164,
   "id": "b8764e84-f573-46c2-970d-8d9a0be3c14f",
   "metadata": {},
   "outputs": [
    {
     "name": "stdin",
     "output_type": "stream",
     "text": [
      "합 구할 숫자 개수를 입력하세요 3\n",
      "숫자를 입력하세요 20\n",
      "숫자를 입력하세요 50\n",
      "숫자를 입력하세요 70\n"
     ]
    },
    {
     "name": "stdout",
     "output_type": "stream",
     "text": [
      "140\n"
     ]
    }
   ],
   "source": [
    "number1 = int(input('합 구할 숫자 개수를 입력하세요'))\n",
    "y = my_input_num(number1)\n",
    "x = my_input_sum(y)\n",
    "print(x)"
   ]
  },
  {
   "cell_type": "code",
   "execution_count": null,
   "id": "024ef250-48d5-4011-9b05-de04387fa58d",
   "metadata": {},
   "outputs": [],
   "source": []
  }
 ],
 "metadata": {
  "kernelspec": {
   "display_name": "Python 3 (ipykernel)",
   "language": "python",
   "name": "python3"
  },
  "language_info": {
   "codemirror_mode": {
    "name": "ipython",
    "version": 3
   },
   "file_extension": ".py",
   "mimetype": "text/x-python",
   "name": "python",
   "nbconvert_exporter": "python",
   "pygments_lexer": "ipython3",
   "version": "3.9.7"
  }
 },
 "nbformat": 4,
 "nbformat_minor": 5
}
