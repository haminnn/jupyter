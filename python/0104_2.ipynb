{
 "cells": [
  {
   "cell_type": "code",
   "execution_count": 2,
   "id": "2b6dcb98-2b31-423d-8d27-1745547213e9",
   "metadata": {},
   "outputs": [],
   "source": [
    "#정규식 RegEx(Regular expressions)"
   ]
  },
  {
   "cell_type": "code",
   "execution_count": 88,
   "id": "7e54ea71-a6c9-4665-a2f6-52c66203fac7",
   "metadata": {},
   "outputs": [
    {
     "name": "stdout",
     "output_type": "stream",
     "text": [
      "<class 're.Pattern'>\n",
      "<re.Match object; span=(0, 1), match='a'>\n",
      "<re.Match object; span=(0, 1), match='A'>\n",
      "<re.Match object; span=(0, 1), match='b'>\n",
      "<re.Match object; span=(0, 1), match='a'>\n"
     ]
    }
   ],
   "source": [
    "import re\n",
    "\n",
    "p = re.compile('[a-zA-Z]')\n",
    "print(type(p))\n",
    "print(p.match('a'))\n",
    "print(p.match('A'))\n",
    "print(p.match('b'))\n",
    "print(p.match('aA'))"
   ]
  },
  {
   "cell_type": "code",
   "execution_count": 51,
   "id": "2e888038-c2ac-4078-9998-75e484161662",
   "metadata": {},
   "outputs": [
    {
     "name": "stdout",
     "output_type": "stream",
     "text": [
      "<re.Match object; span=(0, 3), match='a\\nb'>\n"
     ]
    }
   ],
   "source": [
    "p = re.compile('a.b', re.DOTALL)\n",
    "print(p.match('a\\nb'))"
   ]
  },
  {
   "cell_type": "code",
   "execution_count": 71,
   "id": "5ca2eee2-703c-4087-80eb-5a150b67bd10",
   "metadata": {},
   "outputs": [
    {
     "name": "stdout",
     "output_type": "stream",
     "text": [
      "<re.Match object; span=(0, 6), match='python'>\n",
      "<re.Match object; span=(0, 6), match='Python'>\n",
      "<re.Match object; span=(0, 6), match='PYTHON'>\n"
     ]
    }
   ],
   "source": [
    "p = re.compile('[a-z]*', re.I)\n",
    "print(p.match('python'))\n",
    "print(p.match('Python'))\n",
    "print(p.match('PYTHON'))"
   ]
  },
  {
   "cell_type": "code",
   "execution_count": 82,
   "id": "0a6f18ba-0023-4d7d-b59a-cec4e3ea56b6",
   "metadata": {},
   "outputs": [
    {
     "name": "stdout",
     "output_type": "stream",
     "text": [
      "<re.Match object; span=(0, 10), match='python one'>\n",
      "['python one', 'python two', 'python\\npython']\n"
     ]
    }
   ],
   "source": [
    "p = re.compile('python\\s\\w+', re.MULTILINE)\n",
    "\n",
    "data = \"\"\"python one\n",
    "life is too short\n",
    "python two\n",
    "you need python\n",
    "python three \"\"\"\n",
    "\n",
    "print(p.match(data))\n",
    "print(p.findall(data))"
   ]
  },
  {
   "cell_type": "code",
   "execution_count": 102,
   "id": "1af5c3cc-30da-47a7-b1e7-0aaa2945b19b",
   "metadata": {},
   "outputs": [
    {
     "name": "stdout",
     "output_type": "stream",
     "text": [
      "<re.Match object; span=(0, 4), match='aaaa'>\n",
      "<re.Match object; span=(0, 9), match='bbbbbbbbb'>\n",
      "None\n",
      "<re.Match object; span=(0, 3), match='aaa'>\n",
      "0\n",
      "4\n"
     ]
    }
   ],
   "source": [
    "p =re.compile('[a-z]+')\n",
    "\n",
    "print(p.match('aaaa'))\n",
    "print(p.match('bbbbbbbbb'))\n",
    "print(p.match('1aaaa'))\n",
    "print(p.match('aaa1aaa'))\n",
    "x = p.match('baaa1aaa')\n",
    "print(x.start())\n",
    "print(x.end())"
   ]
  },
  {
   "cell_type": "code",
   "execution_count": 105,
   "id": "52891042-dfec-46d8-a07b-3a698c0556ba",
   "metadata": {},
   "outputs": [
    {
     "name": "stdout",
     "output_type": "stream",
     "text": [
      "<re.Match object; span=(0, 5), match='aaaaa'>\n",
      "<re.Match object; span=(2, 6), match='aaaa'>\n",
      "<re.Match object; span=(0, 3), match='aaa'>\n",
      "<re.Match object; span=(1, 4), match='aaa'>\n",
      "4\n"
     ]
    }
   ],
   "source": [
    "print(p.search('aaaaa'))\n",
    "print(p.search('11aaaa'))\n",
    "print(p.search('aaa11aaa'))\n",
    "print(p.search('1aaa11aaa1'))\n",
    "\n",
    "y = p.search('1aaa11aaa1')\n",
    "print(y.end())"
   ]
  },
  {
   "cell_type": "code",
   "execution_count": 114,
   "id": "dbbe09ac-2d43-4d5d-bb89-48e8867d4c42",
   "metadata": {},
   "outputs": [
    {
     "name": "stdout",
     "output_type": "stream",
     "text": [
      "['aaa', 'aa', 'aaaaa', 'aa', 'a']\n",
      "['aaa']\n",
      "['aaa']\n",
      "['a', 'a', 'a', 'a', 'a']\n",
      "aaa\n",
      "aa\n",
      "aaaaaa\n",
      "aa\n",
      "a\n"
     ]
    }
   ],
   "source": [
    "print(p.findall('aaa11aa1aaaaa11aa1a')) #str타입으로 리스트에 담겨진다\n",
    "print(p.findall('aaa'))\n",
    "print(p.findall('11aaa'))\n",
    "print(p.findall('1a1a1a1a1a'))\n",
    "\n",
    "myList = p.findall('aaa11aa1aaaaaa11aa1a')\n",
    "\n",
    "for n in myList :\n",
    "    print(n)"
   ]
  },
  {
   "cell_type": "code",
   "execution_count": 110,
   "id": "81a9c9f7-c46d-4251-be5b-c41fe30cd675",
   "metadata": {},
   "outputs": [
    {
     "name": "stdout",
     "output_type": "stream",
     "text": [
      "<callable_iterator object at 0x00000202FC774E80>\n"
     ]
    }
   ],
   "source": [
    "print(p.finditer('a1bb1ccc')) #객체로 반환되기 때문에 아래와 같은 실행값이 나온다"
   ]
  },
  {
   "cell_type": "code",
   "execution_count": 112,
   "id": "4c151cf9-2c7c-410f-9d40-3b8d56e1f00a",
   "metadata": {},
   "outputs": [
    {
     "name": "stdout",
     "output_type": "stream",
     "text": [
      "<re.Match object; span=(0, 1), match='a'>\n",
      "<re.Match object; span=(2, 4), match='bb'>\n",
      "<re.Match object; span=(5, 8), match='ccc'>\n"
     ]
    }
   ],
   "source": [
    "iterator = p.finditer('a1bb1ccc')\n",
    "\n",
    "for n in iterator :\n",
    "    print(n)"
   ]
  }
 ],
 "metadata": {
  "kernelspec": {
   "display_name": "Python 3 (ipykernel)",
   "language": "python",
   "name": "python3"
  },
  "language_info": {
   "codemirror_mode": {
    "name": "ipython",
    "version": 3
   },
   "file_extension": ".py",
   "mimetype": "text/x-python",
   "name": "python",
   "nbconvert_exporter": "python",
   "pygments_lexer": "ipython3",
   "version": "3.9.7"
  }
 },
 "nbformat": 4,
 "nbformat_minor": 5
}
