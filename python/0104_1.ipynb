{
 "cells": [
  {
   "cell_type": "code",
   "execution_count": 12,
   "id": "d16c7280-ed88-4ef5-95bb-3fa47a5cff8e",
   "metadata": {},
   "outputs": [],
   "source": [
    "f = open(\"test.txt\", \"wt\", encoding = \"utf-8\")\n",
    "\n",
    "f.write('텍스트 파일을 새로 만들고 텍스트를 씁니다.\\n')\n",
    "f.write('텍스트 파일을 새로 만들고 텍스트를 씁니다.\\n')\n",
    "\n",
    "f.close()"
   ]
  },
  {
   "cell_type": "code",
   "execution_count": 19,
   "id": "3e3a0d37-1dac-4061-9adf-51988f7b63db",
   "metadata": {},
   "outputs": [
    {
     "name": "stdout",
     "output_type": "stream",
     "text": [
      "텍스트 파일을 새로 만들고 텍스트를 씁니다.\n",
      "텍스트 파일을 새로 만들고 텍스트를 씁니다.\n",
      "테스트1 입니다. \n",
      "테스트2 입니다. \n",
      "테스트1 입니다. \n",
      "테스트2 입니다. \n",
      "테스트1 입니다. \n",
      "테스트2 입니다. \n",
      "\n",
      "\n",
      "\n",
      "\n"
     ]
    }
   ],
   "source": [
    "f = open(\"test.txt\", \"rt\", encoding = \"utf-8\")\n",
    "\n",
    "print ( f.read() )\n",
    "print(f.readline())\n",
    "print(f.readline())\n",
    "print(f.readline())\n",
    "\n",
    "while True :\n",
    "    x = f.readline()\n",
    "    if x != '' : # if x == True : 또는 if x :라고 써도 된다. 빈 문자열은 false이기 때문에\n",
    "        print(x)\n",
    "    else :\n",
    "        break\n",
    "\n",
    "line = f.readlines()\n",
    "for n in line :\n",
    "    print(n)\n",
    "\n",
    "\n",
    "f.close()\n",
    "\n"
   ]
  },
  {
   "cell_type": "code",
   "execution_count": 18,
   "id": "2147a0a2-1221-4d94-b075-e6146c26bb12",
   "metadata": {},
   "outputs": [],
   "source": [
    "with open(\"test.txt\", \"a\", encoding = \"utf-8\") as test :\n",
    "    test.write(\"테스트1 입니다. \\n\")\n",
    "    test.write(\"테스트2 입니다. \\n\")"
   ]
  },
  {
   "cell_type": "code",
   "execution_count": 115,
   "id": "eeeaf705-1dcf-4dc1-acfb-a58560135471",
   "metadata": {},
   "outputs": [
    {
     "name": "stdout",
     "output_type": "stream",
     "text": [
      "[{'name': 'choi', 'age': 27, 'city': 'An seong'}, {'name': 'kim', 'age': 15, 'city': 'New York'}]\n"
     ]
    }
   ],
   "source": [
    "import json\n",
    "json_string = '''[\n",
    "            {    \"name\" : \"choi\", \n",
    "                 \"age\" : 27, \n",
    "                 \"city\" : \"An seong\"   },\n",
    "            {    \"name\" : \"kim\", \n",
    "                 \"age\" : 15, \n",
    "                 \"city\" : \"New York\"   }\n",
    "                 ]'''\n",
    "\n",
    "python_list = json.loads(json_string)\n",
    "\n",
    "python_dict = {\"name\" : \"john\",\n",
    "               \"age\" : 29,\n",
    "               \"city\" : \"seoul\"}\n",
    "\n",
    "json_string = json.dumps(python_dict)\n",
    "json_string = json.dumps(python_list)\n",
    "    \n",
    "with open(\"test1.json\", \"w\") as test :\n",
    "    test.write(json_string)\n",
    "\n",
    "with open(\"test1.json\", \"r\") as f :\n",
    "    pp = json.load(f)\n",
    "    print(pp)"
   ]
  },
  {
   "cell_type": "code",
   "execution_count": 123,
   "id": "240c9133-856b-48cc-98b8-71c2a2a83761",
   "metadata": {},
   "outputs": [
    {
     "name": "stdout",
     "output_type": "stream",
     "text": [
      "<class 'requests.models.Response'>\n",
      "{'current_user_url': 'https://api.github.com/user', 'current_user_authorizations_html_url': 'https://github.com/settings/connections/applications{/client_id}', 'authorizations_url': 'https://api.github.com/authorizations', 'code_search_url': 'https://api.github.com/search/code?q={query}{&page,per_page,sort,order}', 'commit_search_url': 'https://api.github.com/search/commits?q={query}{&page,per_page,sort,order}', 'emails_url': 'https://api.github.com/user/emails', 'emojis_url': 'https://api.github.com/emojis', 'events_url': 'https://api.github.com/events', 'feeds_url': 'https://api.github.com/feeds', 'followers_url': 'https://api.github.com/user/followers', 'following_url': 'https://api.github.com/user/following{/target}', 'gists_url': 'https://api.github.com/gists{/gist_id}', 'hub_url': 'https://api.github.com/hub', 'issue_search_url': 'https://api.github.com/search/issues?q={query}{&page,per_page,sort,order}', 'issues_url': 'https://api.github.com/issues', 'keys_url': 'https://api.github.com/user/keys', 'label_search_url': 'https://api.github.com/search/labels?q={query}&repository_id={repository_id}{&page,per_page}', 'notifications_url': 'https://api.github.com/notifications', 'organization_url': 'https://api.github.com/orgs/{org}', 'organization_repositories_url': 'https://api.github.com/orgs/{org}/repos{?type,page,per_page,sort}', 'organization_teams_url': 'https://api.github.com/orgs/{org}/teams', 'public_gists_url': 'https://api.github.com/gists/public', 'rate_limit_url': 'https://api.github.com/rate_limit', 'repository_url': 'https://api.github.com/repos/{owner}/{repo}', 'repository_search_url': 'https://api.github.com/search/repositories?q={query}{&page,per_page,sort,order}', 'current_user_repositories_url': 'https://api.github.com/user/repos{?type,page,per_page,sort}', 'starred_url': 'https://api.github.com/user/starred{/owner}{/repo}', 'starred_gists_url': 'https://api.github.com/gists/starred', 'topic_search_url': 'https://api.github.com/search/topics?q={query}{&page,per_page}', 'user_url': 'https://api.github.com/users/{user}', 'user_organizations_url': 'https://api.github.com/user/orgs', 'user_repositories_url': 'https://api.github.com/users/{user}/repos{?type,page,per_page,sort}', 'user_search_url': 'https://api.github.com/search/users?q={query}{&page,per_page,sort,order}'}\n",
      "https://api.github.com/user\n"
     ]
    }
   ],
   "source": [
    "# web → myprogram → file 웹에서 내 프로그램으로 받고 파일에 저장하기\n",
    "#웹 크롤링을 하면 웹에서 내 프로그램에서 받아서 내가 원하는 형태로 조작을 하고 파일에 저장이 가능하다.\n",
    "import requests #웹에서 내 프로그램으로 받기 위한 모듈\n",
    "import json\n",
    "\n",
    "response = requests.get('https://api.github.com')\n",
    "print(type(response))\n",
    "\n",
    "if response.status_code == 200 :\n",
    "    #print(response.content)\n",
    "    json_object = json.loads(response.text)\n",
    "    \n",
    "with open(\"test2.json\", \"w\") as t : # 받은 프로그램을 파일에 저장\n",
    "    t.write(response.text)\n",
    "    \n",
    "with open(\"test2.json\", \"r\") as j : # 저장된 파일 읽기\n",
    "    p = json.load(j)\n",
    "    print(p)\n",
    "    \n",
    "print(json_object['current_user_url'])"
   ]
  },
  {
   "cell_type": "code",
   "execution_count": 99,
   "id": "263700d7-2ce7-494e-b646-2d240c3cb9c0",
   "metadata": {},
   "outputs": [],
   "source": [
    "#!pip list"
   ]
  },
  {
   "cell_type": "code",
   "execution_count": null,
   "id": "5f6a6baa-d178-418c-8bc6-df06e61a6e1f",
   "metadata": {},
   "outputs": [],
   "source": []
  }
 ],
 "metadata": {
  "kernelspec": {
   "display_name": "Python 3 (ipykernel)",
   "language": "python",
   "name": "python3"
  },
  "language_info": {
   "codemirror_mode": {
    "name": "ipython",
    "version": 3
   },
   "file_extension": ".py",
   "mimetype": "text/x-python",
   "name": "python",
   "nbconvert_exporter": "python",
   "pygments_lexer": "ipython3",
   "version": "3.9.7"
  }
 },
 "nbformat": 4,
 "nbformat_minor": 5
}
