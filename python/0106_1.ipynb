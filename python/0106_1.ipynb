{
 "cells": [
  {
   "cell_type": "code",
   "execution_count": 13,
   "id": "7fd6f477-486f-4c02-a51a-5c0899d8ef83",
   "metadata": {},
   "outputs": [
    {
     "name": "stdout",
     "output_type": "stream",
     "text": [
      "[[[ 1  2  3]\n",
      "  [ 4  5  6]\n",
      "  [ 7  8  9]]\n",
      "\n",
      " [[10 11 12]\n",
      "  [13 14 15]\n",
      "  [16 17 18]]] <class 'numpy.ndarray'>\n",
      "(2, 3, 3)\n",
      "3\n",
      "int32\n"
     ]
    }
   ],
   "source": [
    "import numpy as np #내가 원하는 배열,벡터를 만들어서 무언가를 할 때\n",
    "\n",
    "# arr = np.array([1, 2, 3, 4, 5])\n",
    "# arr = np.array([[1, 2, 3], [4, 5, 6]])\n",
    "arr = np.array([\n",
    "                [[1, 2, 3], [4, 5, 6], [7, 8, 9]],\n",
    "                [[10, 11, 12], [13, 14, 15], [16, 17, 18]]\n",
    "                ])\n",
    "\n",
    "print(arr, type(arr))\n",
    "print(arr.shape)\n",
    "print(arr.ndim)\n",
    "print(arr.dtype)"
   ]
  },
  {
   "cell_type": "code",
   "execution_count": 16,
   "id": "6f32898b-ca14-43e3-822d-5a2904f5b3ad",
   "metadata": {},
   "outputs": [
    {
     "name": "stdout",
     "output_type": "stream",
     "text": [
      "[[[1 1 1 1]\n",
      "  [1 1 1 1]\n",
      "  [1 1 1 1]]\n",
      "\n",
      " [[1 1 1 1]\n",
      "  [1 1 1 1]\n",
      "  [1 1 1 1]]]\n"
     ]
    }
   ],
   "source": [
    "arra = np.ones((2,3,4), dtype =np.int16)\n",
    "print(arra)"
   ]
  },
  {
   "cell_type": "code",
   "execution_count": 18,
   "id": "d2b8b646-f574-46d7-949a-1b2cabdda5ec",
   "metadata": {},
   "outputs": [
    {
     "name": "stdout",
     "output_type": "stream",
     "text": [
      "[[7 7]\n",
      " [7 7]]\n"
     ]
    }
   ],
   "source": [
    "arre = np.full((2,2), 7)\n",
    "print(arre)"
   ]
  },
  {
   "cell_type": "code",
   "execution_count": 22,
   "id": "906e5cc8-6947-4ca8-aab3-6aa0aee2fa15",
   "metadata": {},
   "outputs": [
    {
     "name": "stdout",
     "output_type": "stream",
     "text": [
      "[0.   0.25 0.5  0.75 1.  ]\n"
     ]
    }
   ],
   "source": [
    "arrr = np.linspace(0, 1, 5)\n",
    "print(arrr)"
   ]
  },
  {
   "cell_type": "code",
   "execution_count": 96,
   "id": "e399d566-6308-4d6e-a533-76d617c15f59",
   "metadata": {},
   "outputs": [
    {
     "name": "stdout",
     "output_type": "stream",
     "text": [
      "[[1 2 3]\n",
      " [4 5 6]\n",
      " [7 8 9]]\n",
      "[[ 1  2  3]\n",
      " [10 11 12]]\n",
      "[[[ 1 10]\n",
      "  [ 4 13]\n",
      "  [ 7 16]]\n",
      "\n",
      " [[ 2 11]\n",
      "  [ 5 14]\n",
      "  [ 8 17]]\n",
      "\n",
      " [[ 3 12]\n",
      "  [ 6 15]\n",
      "  [ 9 18]]]\n",
      "1\n",
      "2\n",
      "3\n",
      "4\n",
      "5\n",
      "6\n",
      "7\n",
      "8\n",
      "9\n",
      "10\n",
      "11\n",
      "12\n",
      "13\n",
      "14\n",
      "15\n",
      "16\n",
      "17\n",
      "18\n"
     ]
    }
   ],
   "source": [
    "# arry = np.array([[1, 2, 3], [4, 5, 6]])\n",
    "arry = np.array([\n",
    "                [[1, 2, 3], [4, 5, 6], [7, 8, 9]],\n",
    "                [[10, 11, 12], [13, 14, 15], [16, 17, 18]]\n",
    "                ])\n",
    "print(arry[0, : ])\n",
    "print(arry[ : , 0])\n",
    "print(arry.T)\n",
    "for x in arry :\n",
    "    for y in x :\n",
    "        for n in y :\n",
    "            print(n)"
   ]
  },
  {
   "cell_type": "code",
   "execution_count": 92,
   "id": "f732c987-520c-4407-8a47-564014cafbc1",
   "metadata": {},
   "outputs": [
    {
     "name": "stdout",
     "output_type": "stream",
     "text": [
      "[42  2  3  4  5]\n",
      "[1 2 3 4 5]\n"
     ]
    }
   ],
   "source": [
    "arr1 = np.array([1, 2, 3, 4, 5])\n",
    "x = arr1.copy()\n",
    "arr1[0] = 42\n",
    "print(arr1)\n",
    "print(x)"
   ]
  },
  {
   "cell_type": "code",
   "execution_count": 93,
   "id": "993ea96e-6ac0-4153-86c1-aea35ae85e21",
   "metadata": {},
   "outputs": [
    {
     "name": "stdout",
     "output_type": "stream",
     "text": [
      "[[ 0  1  2  3  4]\n",
      " [ 5  6  7  8  9]\n",
      " [10 11 12 13 14]]\n"
     ]
    }
   ],
   "source": [
    "arr2 = np.arange(15).reshape(3,5)\n",
    "print(arr2)"
   ]
  },
  {
   "cell_type": "code",
   "execution_count": 94,
   "id": "ccfe8ab9-6588-4f9a-aeb7-1f0ef3252805",
   "metadata": {},
   "outputs": [
    {
     "name": "stdout",
     "output_type": "stream",
     "text": [
      "[[ 0  3  6  9 12]\n",
      " [ 1  4  7 10 13]\n",
      " [ 2  5  8 11 14]]\n"
     ]
    }
   ],
   "source": [
    "arr3 = np.arange(15).reshape(5,3)\n",
    "print(arr3.T)"
   ]
  },
  {
   "cell_type": "code",
   "execution_count": 87,
   "id": "c27b9275-2aa8-4f7a-a862-9d43492a90b0",
   "metadata": {},
   "outputs": [
    {
     "data": {
      "image/png": "[encoded data removed]",
      "text/plain": [
       "<Figure size 432x288 with 1 Axes>"
      ]
     },
     "metadata": {
      "needs_background": "light"
     },
     "output_type": "display_data"
    }
   ],
   "source": [
    "import matplotlib.pyplot as plt #내가 원하는 그래프 만들때\n",
    "xpoints = np.array([0, 6])\n",
    "ypoints = np.array([0,250])\n",
    "\n",
    "plt.plot(xpoints, ypoints,'y')\n",
    "plt.show()"
   ]
  },
  {
   "cell_type": "code",
   "execution_count": 95,
   "id": "c7a2a323-9df7-4125-85fa-eda2b32ffa06",
   "metadata": {},
   "outputs": [
    {
     "data": {
      "image/png": "[encoded data removed]",
      "text/plain": [
       "<Figure size 432x288 with 1 Axes>"
      ]
     },
     "metadata": {
      "needs_background": "light"
     },
     "output_type": "display_data"
    }
   ],
   "source": [
    "xpointss = np.array([1,2,10,3])\n",
    "ypointss = np.array([4,9,11,6])\n",
    "plt.plot(xpointss, ypointss,'rd')\n",
    "plt.show()"
   ]
  },
  {
   "cell_type": "code",
   "execution_count": 103,
   "id": "f310e749-e9ff-4bee-8889-353b0400e4ba",
   "metadata": {},
   "outputs": [
    {
     "data": {
      "image/png": "[encoded data removed]",
      "text/plain": [
       "<Figure size 432x288 with 1 Axes>"
      ]
     },
     "metadata": {
      "needs_background": "light"
     },
     "output_type": "display_data"
    }
   ],
   "source": [
    "a = np.array([1,3,4,5,16,17,27,57,68,100])\n",
    "b = np.array([4,5,7,10,15,47,86,104,9,39])\n",
    "\n",
    "plt.rc('font', family = 'Malgun Gothic')\n",
    "\n",
    "plt.title('바나나Spors Watch Data')\n",
    "plt.xlabel('Average Pulse')\n",
    "plt.ylabel('Calorie Burnage')\n",
    "\n",
    "plt.plot(a, b)\n",
    "\n",
    "plt.grid(axis = 'y')\n"
   ]
  },
  {
   "cell_type": "code",
   "execution_count": null,
   "id": "69c6d0a7-cfe2-4c10-b5d3-84d88707246f",
   "metadata": {},
   "outputs": [],
   "source": []
  }
 ],
 "metadata": {
  "kernelspec": {
   "display_name": "Python 3 (ipykernel)",
   "language": "python",
   "name": "python3"
  },
  "language_info": {
   "codemirror_mode": {
    "name": "ipython",
    "version": 3
   },
   "file_extension": ".py",
   "mimetype": "text/x-python",
   "name": "python",
   "nbconvert_exporter": "python",
   "pygments_lexer": "ipython3",
   "version": "3.9.7"
  }
 },
 "nbformat": 4,
 "nbformat_minor": 5
}
