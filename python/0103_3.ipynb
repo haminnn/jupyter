{
 "cells": [
  {
   "cell_type": "code",
   "execution_count": 224,
   "id": "c3195f19-c4bf-465c-95ab-e60fd3778e73",
   "metadata": {},
   "outputs": [
    {
     "data": {
      "text/plain": [
       "-0.4161468365471424"
      ]
     },
     "execution_count": 224,
     "metadata": {},
     "output_type": "execute_result"
    }
   ],
   "source": [
    "# 모듈 사용\n",
    "import math\n",
    "math.sqrt(2)\n",
    "math.cos(2)"
   ]
  },
  {
   "cell_type": "code",
   "execution_count": 51,
   "id": "0c038cf0-48d5-4cb6-a171-8438f34fe1b6",
   "metadata": {},
   "outputs": [
    {
     "name": "stdout",
     "output_type": "stream",
     "text": [
      "2022-01-03 15:32:02.665472\n",
      "2022\n",
      "1\n",
      "3\n",
      "2022/01/03\n",
      "2022-01-30 00:00:00\n",
      "01/03/22\n"
     ]
    }
   ],
   "source": [
    "#import datetime\n",
    "from datetime import datetime\n",
    "\n",
    "#x = datetime.datetime.now()\n",
    "datetime.now()\n",
    "print(x)\n",
    "print(x.year)\n",
    "print(x.month)\n",
    "print(x.day)\n",
    "s = x.strftime('%Y/%m/%d') #날짜타입을 내가 하고자 하는 포맷에 맞게\n",
    "print(s)\n",
    "d = datetime.strptime('2022-01-30', '%Y-%m-%d') #문자열 타입을 내가 하고자 하는 포맷에 맞게\n",
    "print(d)\n",
    "c = x.strftime('%x')\n",
    "print(c)"
   ]
  },
  {
   "cell_type": "code",
   "execution_count": 52,
   "id": "21ccb7a4-fa92-43d7-8e9e-3d44a0903961",
   "metadata": {},
   "outputs": [
    {
     "name": "stdout",
     "output_type": "stream",
     "text": [
      "Windows\n"
     ]
    }
   ],
   "source": [
    "import platform\n",
    "\n",
    "y = platform.system()\n",
    "print(y)"
   ]
  },
  {
   "cell_type": "code",
   "execution_count": 226,
   "id": "5977f625-d504-4239-83b2-884cff2af298",
   "metadata": {},
   "outputs": [
    {
     "name": "stdout",
     "output_type": "stream",
     "text": [
      "83\n",
      "0.7916071007620858\n",
      "5\n"
     ]
    }
   ],
   "source": [
    "import random\n",
    "num = random.randint(1, 100)\n",
    "print(num)\n",
    "\n",
    "num1 = random.random()\n",
    "print(num1)\n",
    "\n",
    "num2 = random.randrange(1, 7, 2)\n",
    "print(num2)"
   ]
  },
  {
   "cell_type": "code",
   "execution_count": 227,
   "id": "2c0e6285-9888-4753-b3bd-ea9374c69997",
   "metadata": {},
   "outputs": [
    {
     "name": "stdout",
     "output_type": "stream",
     "text": [
      "Hello World\n"
     ]
    }
   ],
   "source": [
    "#패키지 사용 #파이썬에서 기본으로 제공되는 패키지가 아닌경우 패키지를 설치해야 한다.\n",
    "# !pip install camelcase #패키지 설치\n",
    "# import camelcase\n",
    "import camelcase as cc\n",
    "c = cc.CamelCase()\n",
    "txt = 'hello world'\n",
    "print(c.hump(txt))"
   ]
  },
  {
   "cell_type": "code",
   "execution_count": 13,
   "id": "bc351085-2aaf-480f-b045-ef84777fd2b4",
   "metadata": {},
   "outputs": [
    {
     "name": "stdout",
     "output_type": "stream",
     "text": [
      "<class 'list'> [{'name': 'choi', 'age': 27, 'city': 'An seong'}, {'name': 'kim', 'age': 15, 'city': 'New York'}]\n",
      "choi\n",
      "[{\"name\": \"choi\", \"age\": 27, \"city\": \"An seong\"}, {\"name\": \"kim\", \"age\": 15, \"city\": \"New York\"}] <class 'str'>\n"
     ]
    }
   ],
   "source": [
    "#load() json 문자열을 파이썬으로\n",
    "#dumps() 파이썬 문자열을 json으로\n",
    "import json\n",
    "\n",
    "json_string = '''[\n",
    "            {    \"name\" : \"choi\", \n",
    "                 \"age\" : 27, \n",
    "                 \"city\" : \"An seong\"   },\n",
    "            {    \"name\" : \"kim\", \n",
    "                 \"age\" : 15, \n",
    "                 \"city\" : \"New York\"   }\n",
    "                 ]'''\n",
    "#python 문자열로 변환\n",
    "python_list = json.loads(json_string)\n",
    "\n",
    "print(type(python_list), python_list)\n",
    "\n",
    "for python_dict in python_list :\n",
    "    if python_dict[\"age\"] > 20 :\n",
    "        print(python_dict[\"name\"])\n",
    "    \n",
    "\n",
    "python_dict = {\"name\" : \"john\",\n",
    "               \"age\" : 29,\n",
    "               \"city\" : \"seoul\"}\n",
    "#json 문자열로 변환\n",
    "json_string = json.dumps(python_dict)\n",
    "json_string = json.dumps(python_list)\n",
    "\n",
    "print(json_string, type(json_string))"
   ]
  },
  {
   "cell_type": "code",
   "execution_count": null,
   "id": "daf9e186-9fe6-48aa-b9c2-35c144eb8974",
   "metadata": {},
   "outputs": [],
   "source": []
  }
 ],
 "metadata": {
  "kernelspec": {
   "display_name": "Python 3 (ipykernel)",
   "language": "python",
   "name": "python3"
  },
  "language_info": {
   "codemirror_mode": {
    "name": "ipython",
    "version": 3
   },
   "file_extension": ".py",
   "mimetype": "text/x-python",
   "name": "python",
   "nbconvert_exporter": "python",
   "pygments_lexer": "ipython3",
   "version": "3.9.7"
  }
 },
 "nbformat": 4,
 "nbformat_minor": 5
}
