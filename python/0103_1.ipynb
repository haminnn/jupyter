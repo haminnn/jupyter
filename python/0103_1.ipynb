{
 "cells": [
  {
   "cell_type": "code",
   "execution_count": 173,
   "id": "cbef1959-2d2d-484c-8d5c-8dd02aeb091a",
   "metadata": {},
   "outputs": [],
   "source": [
    "class Account :\n",
    "    account_cnt = 0\n",
    "    def __init__(self, num):\n",
    "        self.__num = num\n",
    "        self.__balance = 0\n",
    "        Account.account_cnt = Account.account_cnt + 1\n",
    "    \n",
    "    # 계좌번호\n",
    "    def get_num(self) :\n",
    "        return self.__num\n",
    "    \n",
    "    # 잔액\n",
    "    def get_balance(self) :\n",
    "        return self.__balance\n",
    "    \n",
    "    def set_num(self, num) :\n",
    "        self.__num = num\n",
    "        \n",
    "    def set_balance(self, balance) :\n",
    "        self.__balance = balance\n",
    "    \n",
    "    # 입금\n",
    "    def get_deposit(self, money) :\n",
    "        self.__balance = self.__balance + money\n",
    "    \n",
    "    # 출금\n",
    "    def get_withdraw(self, money) :\n",
    "        if (self.__balance - money) > 0 :\n",
    "            self.__balance = self.__balance - money\n",
    "        else :\n",
    "            print('잔액이 부족합니다.')\n",
    "    \n",
    "    # 계좌의 정보\n",
    "    def print_info(self) :\n",
    "        print('계좌번호 %d 현재 잔액은 %d원입니다.' %(self.__num, self.__balance))\n",
    "    \n",
    "    # 송금\n",
    "    def remittance(self, money, other) : #아더쪽만 set으로 바꿔보기\n",
    "        if (self.__balance - money) > 0 :\n",
    "            self.__balance = self.__balance - money\n",
    "        else :\n",
    "            print('잔액이 부족합니다.')\n",
    "        get_balance = other.__balance\n",
    "        other.__balance = other.__balance + money\n",
    "    \n",
    "    #계좌 갯수 출력\n",
    "    @classmethod\n",
    "    def print_account_cnt(cls) :\n",
    "        print(cls.account_cnt)\n",
    "            "
   ]
  },
  {
   "cell_type": "code",
   "execution_count": 171,
   "id": "57dbc211-60af-44fe-9582-c7ac8c1d7c0d",
   "metadata": {},
   "outputs": [
    {
     "name": "stdout",
     "output_type": "stream",
     "text": [
      "1\n",
      "2\n",
      "0\n",
      "100\n",
      "300\n",
      "잔액이 부족합니다.\n",
      "250\n",
      "계좌번호 1 현재 잔액은 250원입니다.\n"
     ]
    }
   ],
   "source": [
    "user1 = Account(1)\n",
    "Account.print_account_cnt()\n",
    "user2 = Account(2)\n",
    "Account.print_account_cnt()\n",
    "\n",
    "print(user1.get_balance())\n",
    "\n",
    "user1.get_deposit(100)\n",
    "print(user1.get_balance())\n",
    "\n",
    "user1.get_deposit(200)\n",
    "print(user1.get_balance())\n",
    "\n",
    "user1.get_withdraw(400)\n",
    "\n",
    "user1.get_withdraw(50)\n",
    "print(user1.get_balance())\n",
    "\n",
    "user1.print_info()"
   ]
  },
  {
   "cell_type": "code",
   "execution_count": 172,
   "id": "50be1774-8331-43df-946b-7603ebb350c0",
   "metadata": {},
   "outputs": [
    {
     "name": "stdout",
     "output_type": "stream",
     "text": [
      "150\n",
      "100\n"
     ]
    }
   ],
   "source": [
    "user1.remittance(100, user2)\n",
    "print(user1.get_balance())\n",
    "print(user2.get_balance())"
   ]
  },
  {
   "cell_type": "code",
   "execution_count": null,
   "id": "4aaeaceb-2cb4-415c-ac6a-fd07691e3a38",
   "metadata": {},
   "outputs": [],
   "source": [
    "#스터디 숙제\n",
    "#키보드로 무엇을 하시겠습니다? 1번 계좌만들기 2번 입금하기 (계좌번호 입금액 입력하게만들기)3번 출금하기 4번 송금하기"
   ]
  }
 ],
 "metadata": {
  "kernelspec": {
   "display_name": "Python 3 (ipykernel)",
   "language": "python",
   "name": "python3"
  },
  "language_info": {
   "codemirror_mode": {
    "name": "ipython",
    "version": 3
   },
   "file_extension": ".py",
   "mimetype": "text/x-python",
   "name": "python",
   "nbconvert_exporter": "python",
   "pygments_lexer": "ipython3",
   "version": "3.9.7"
  }
 },
 "nbformat": 4,
 "nbformat_minor": 5
}
