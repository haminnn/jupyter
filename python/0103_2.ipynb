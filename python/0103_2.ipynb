{
 "cells": [
  {
   "cell_type": "code",
   "execution_count": 164,
   "id": "f7dc6125-4050-469e-ad6a-39a16ff76511",
   "metadata": {},
   "outputs": [],
   "source": [
    "class Rectangle :\n",
    "    def __init__(self, name, garo, sero) :\n",
    "        self.__name = name\n",
    "        self.__garo = garo\n",
    "        self.__sero = sero\n",
    "        self.__round1 = 0\n",
    "        self.__area = 0\n",
    "        \n",
    "        \n",
    "    def get_name(self) :\n",
    "        return self.__name\n",
    "    \n",
    "    def get_garo(self) :\n",
    "        return self.__garo\n",
    "    \n",
    "    def get_sero(self) :\n",
    "        return self.__sero\n",
    "    \n",
    "    def set_garo() :\n",
    "        self.__garo = garo\n",
    "        \n",
    "    def set_sero() :\n",
    "        self.__sero = sero\n",
    "        \n",
    "    def round1(self):\n",
    "        return 2 * ( self.__garo + self.__sero)\n",
    "        \n",
    "    def area(self):\n",
    "        return self.__garo * self.__sero\n",
    "    \n",
    "    def __eq__(self, other_rect) :\n",
    "        return self.area() == other_rect.area()\n",
    "    \n",
    "    def __gt__(self, other_rect) :\n",
    "        return self.area() > other_rect.area()\n",
    "    \n",
    "    \n",
    "    "
   ]
  },
  {
   "cell_type": "code",
   "execution_count": 165,
   "id": "92436934-5448-4e80-9368-4a94de845c1b",
   "metadata": {},
   "outputs": [
    {
     "name": "stdout",
     "output_type": "stream",
     "text": [
      "[12, 16, 20, 24, 28]\n",
      "[8, 15, 24, 35, 48]\n",
      "130\n"
     ]
    }
   ],
   "source": [
    "round_list = []\n",
    "area_list = []\n",
    "\n",
    "nemo1 = Rectangle(1, 2, 4)\n",
    "nemo2 = Rectangle(2, 3, 5)\n",
    "nemo3 = Rectangle(3, 4, 6)\n",
    "nemo4 = Rectangle(4, 5, 7)\n",
    "nemo5 = Rectangle(5, 6, 8)\n",
    "\n",
    "nemo_list = (nemo1, nemo2, nemo3, nemo4, nemo5)\n",
    "\n",
    "for n in nemo_list :\n",
    "    r = n.round1()\n",
    "    round_list.append(r)\n",
    "    a = n.area()\n",
    "    area_list.append(a)\n",
    "    \n",
    "print(round_list)\n",
    "print(area_list)\n",
    "\n",
    "sum1 = 0\n",
    "for m in area_list :\n",
    "    sum1 = sum1 + m\n",
    "    \n",
    "print(sum1)\n",
    "    "
   ]
  },
  {
   "cell_type": "code",
   "execution_count": 166,
   "id": "af76c91d-bd13-41bf-b69c-2d7d08ffeab2",
   "metadata": {},
   "outputs": [
    {
     "name": "stdout",
     "output_type": "stream",
     "text": [
      "False\n",
      "True\n"
     ]
    }
   ],
   "source": [
    "r1 = Rectangle(1, 10, 20)\n",
    "\n",
    "r2 = Rectangle(2, 20, 20)\n",
    "\n",
    "print(r1 == r2)\n",
    "print(r1 < r2)"
   ]
  },
  {
   "cell_type": "code",
   "execution_count": null,
   "id": "b96f24a3-04b1-40a1-b01c-baa58c81d582",
   "metadata": {},
   "outputs": [],
   "source": []
  }
 ],
 "metadata": {
  "kernelspec": {
   "display_name": "Python 3 (ipykernel)",
   "language": "python",
   "name": "python3"
  },
  "language_info": {
   "codemirror_mode": {
    "name": "ipython",
    "version": 3
   },
   "file_extension": ".py",
   "mimetype": "text/x-python",
   "name": "python",
   "nbconvert_exporter": "python",
   "pygments_lexer": "ipython3",
   "version": "3.9.7"
  }
 },
 "nbformat": 4,
 "nbformat_minor": 5
}
