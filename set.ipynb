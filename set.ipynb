{
 "cells": [
  {
   "cell_type": "code",
   "execution_count": 13,
   "id": "91e6e281-6c97-4ad7-bd88-828ea1bd2c62",
   "metadata": {},
   "outputs": [
    {
     "name": "stdout",
     "output_type": "stream",
     "text": [
      "<class 'set'>\n",
      "{'bmw'}\n",
      "{'bmw'}\n",
      "{'samsung', 'kia', 'bmw'}\n",
      "{'banana', 'apple', 'mango'}\n",
      "{'banana', 'mango'}\n",
      "{'banana'}\n"
     ]
    }
   ],
   "source": [
    "my_fruits = {}\n",
    "my_car = set()\n",
    "print(type(my_car))\n",
    "my_car.add('bmw') #set 함수의 항목을 추가\n",
    "print(my_car)\n",
    "my_car.add('bmw')\n",
    "print(my_car) #중복된 값은 배제됨\n",
    "my_car.add('samsung')\n",
    "my_car.add('kia')\n",
    "print(my_car)\n",
    "thisset = {'apple', 'banana', 'mango'}\n",
    "print(thisset)\n",
    "thisset.remove('apple')\n",
    "print(thisset)\n",
    "thisset.discard('mango')\n",
    "print(thisset)"
   ]
  },
  {
   "cell_type": "code",
   "execution_count": 41,
   "id": "fd1c0487-705f-4ea3-ab31-247ca6a1804d",
   "metadata": {},
   "outputs": [
    {
     "name": "stdin",
     "output_type": "stream",
     "text": [
      "리스트에 점수를 추가하세요 55\n",
      "리스트에 점수를 추가하세요 66\n",
      "리스트에 점수를 추가하세요 77\n",
      "리스트에 점수를 추가하세요 88\n",
      "리스트에 점수를 추가하세요 99\n"
     ]
    },
    {
     "name": "stdout",
     "output_type": "stream",
     "text": [
      "[55, 66, 77, 88, 99]\n"
     ]
    }
   ],
   "source": [
    "score = []\n",
    "i = 0\n",
    "while i < 5 : \n",
    "    add = int(input('리스트에 점수를 추가하세요'))\n",
    "    score.append(add)\n",
    "    i += 1\n",
    "    \n",
    "print(score)"
   ]
  },
  {
   "cell_type": "code",
   "execution_count": 47,
   "id": "70a4955d-2120-426c-a722-ca2e275c49f3",
   "metadata": {},
   "outputs": [
    {
     "name": "stdin",
     "output_type": "stream",
     "text": [
      "리스트에 점수를 추가하세요 66\n",
      "리스트에 점수를 추가하세요 77\n",
      "리스트에 점수를 추가하세요 88\n",
      "리스트에 점수를 추가하세요 99\n",
      "리스트에 점수를 추가하세요 100\n"
     ]
    },
    {
     "name": "stdout",
     "output_type": "stream",
     "text": [
      "[66, 77, 88, 99, 100]\n"
     ]
    }
   ],
   "source": [
    "score = []\n",
    "for n in range(5) :\n",
    "    add = int(input('리스트에 점수를 추가하세요'))\n",
    "    score.append(add)\n",
    "print(score)"
   ]
  },
  {
   "cell_type": "code",
   "execution_count": null,
   "id": "d55db595-564f-4a7d-aeaa-5bd9b7771dc9",
   "metadata": {},
   "outputs": [],
   "source": []
  }
 ],
 "metadata": {
  "kernelspec": {
   "display_name": "Python 3 (ipykernel)",
   "language": "python",
   "name": "python3"
  },
  "language_info": {
   "codemirror_mode": {
    "name": "ipython",
    "version": 3
   },
   "file_extension": ".py",
   "mimetype": "text/x-python",
   "name": "python",
   "nbconvert_exporter": "python",
   "pygments_lexer": "ipython3",
   "version": "3.9.7"
  }
 },
 "nbformat": 4,
 "nbformat_minor": 5
}
