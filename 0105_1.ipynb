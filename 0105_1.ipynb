{
 "cells": [
  {
   "cell_type": "code",
   "execution_count": 39,
   "id": "27c75391-48cd-4efe-9364-a1e4de85eec6",
   "metadata": {},
   "outputs": [],
   "source": [
    "import requests\n",
    "from bs4 import BeautifulSoup\n",
    "\n",
    "# http = requests.get('https://httpbin.org/get')\n",
    "\n",
    "# print(type(http), http)\n",
    "# print(http.status_code)\n",
    "# print(http.encoding)\n",
    "# print(http.text)\n",
    "# print(http.content)\n",
    "\n",
    "\n",
    "# http1 = requests.put('https://httpbin.org/put')\n",
    "\n",
    "# print(type(http1), http1)\n",
    "# print(http1.status_code)\n",
    "# print(http1.encoding)\n",
    "# print(http1.text)\n",
    "# print(http1.content)\n",
    "\n",
    "\n",
    "# http2 = requests.post('https://httpbin.org/post')\n",
    "\n",
    "# print(type(http2), http2)\n",
    "# print(http2.status_code)\n",
    "# print(http2.encoding)\n",
    "# print(http2.text)\n",
    "# print(http2.content)\n",
    "\n",
    "\n",
    "# http4 = requests.get('https://httpbin.org/ip')\n",
    "\n",
    "# print(type(http4), http4)\n",
    "# print(http4.status_code)\n",
    "# print(http4.encoding)\n",
    "# print(http4.text)\n",
    "# print(http4.content)\n",
    "\n"
   ]
  },
  {
   "cell_type": "code",
   "execution_count": 203,
   "id": "f032a094-06c5-4164-8258-20dede3615ba",
   "metadata": {},
   "outputs": [
    {
     "name": "stdout",
     "output_type": "stream",
     "text": [
      "<title>노래 차트 : 네이버 통합검색</title>\n",
      "title\n",
      "노래 차트 : 네이버 통합검색\n",
      "노래 차트 : 네이버 통합검색\n",
      "<img alt=\"NAVER\" height=\"60\" src=\"https://ssl.pstatic.net/sstatic/search/nlogo/20220104175633.png\" width=\"58\"/>\n"
     ]
    }
   ],
   "source": [
    "croll = requests.get('https://search.naver.com/search.naver?sm=tab_hty.top&where=nexearch&query=%EB%85%B8%EB%9E%98+%EC%B0%A8%ED%8A%B8&oquery=VIBE+%EC%B0%A8%ED%8A%B8&tqi=hORY8sprvN8ssdIJsI4sssssto8-370285')\n",
    "nt = croll.text\n",
    "\n",
    "soup = BeautifulSoup(nt,\"html.parser\")\n",
    "print(soup.title)\n",
    "print(soup.title.name)\n",
    "print(soup.title.string)\n",
    "print(soup.title.text)\n",
    "print(soup.img)"
   ]
  },
  {
   "cell_type": "code",
   "execution_count": 72,
   "id": "a8044cc7-49be-46e5-a204-f62f5a616068",
   "metadata": {},
   "outputs": [
    {
     "name": "stdout",
     "output_type": "stream",
     "text": [
      "<li class=\"item _item\" data-keyword=\"@in_txt@\" data-rank=\"@rank@\" data-template-type=\"history\">\n",
      "<a class=\"kwd\" href=\"#\">\n",
      "<span class=\"fix\"><span class=\"common_ico_kwd\"><i class=\"imsc ico_search\"></i></span><span>@txt@</span></span>\n",
      "</a>\n",
      "<span class=\"etc\">\n",
      "<em class=\"date\">@date@.</em>\n",
      "<!-- [AU] _del 클래스를 추가해주세요. -->\n",
      "<a aria-pressed=\"false\" class=\"bt_item _del\" href=\"#\" role=\"button\"><i class=\"imsc ico_del\">삭제</i></a>\n",
      "</span>\n",
      "</li>\n"
     ]
    }
   ],
   "source": [
    "print(soup.ul.li)"
   ]
  },
  {
   "cell_type": "code",
   "execution_count": 73,
   "id": "1028a3b0-a56d-4333-98d5-b2e9b9b2a473",
   "metadata": {},
   "outputs": [
    {
     "name": "stdout",
     "output_type": "stream",
     "text": [
      "<h1 class=\"logo_special\">\n",
      "<img alt=\"소한\" class=\"special_img\" height=\"160\" src=\"https://s.pstatic.net/static/www/mobile/edit/20220104/mobile_175740863769.png\" width=\"415\"/>\n",
      "<a class=\"special_logo_link\" data-clk=\"top.spe\" href=\"https://search.naver.com/search.naver?where=nexearch&amp;sm=top_brd&amp;fbm=0&amp;ie=utf8&amp;query=%EC%86%8C%ED%95%9C\" title=\"소한\">\n",
      "<img alt=\"소한\" class=\"special_img_fold\" height=\"60\" src=\"https://s.pstatic.net/static/www/mobile/edit/20220104/mobile_175805122604.png\" width=\"58\"/>\n",
      "</a>\n",
      "</h1>\n"
     ]
    }
   ],
   "source": [
    "print(soup.find('h1'))"
   ]
  },
  {
   "cell_type": "code",
   "execution_count": 76,
   "id": "fe6f4d6b-d168-4b9a-ac4d-b224c5d16c37",
   "metadata": {},
   "outputs": [],
   "source": [
    "#print(soup.find_all('li'))"
   ]
  },
  {
   "cell_type": "code",
   "execution_count": 125,
   "id": "dcae58f6-1a57-4b8e-b8cd-294c65b12b6b",
   "metadata": {},
   "outputs": [],
   "source": [
    "# li_list = soup.find_all('li')\n",
    "# print(type(li_list))"
   ]
  },
  {
   "cell_type": "code",
   "execution_count": 127,
   "id": "2835b81c-9f40-4454-b1b8-ba0ebd0e4c4d",
   "metadata": {},
   "outputs": [],
   "source": [
    "# for n in li_list :\n",
    "#     print(n.get_text())"
   ]
  },
  {
   "cell_type": "code",
   "execution_count": 89,
   "id": "b10b4abd-4a31-42aa-8ca1-37dd38671778",
   "metadata": {},
   "outputs": [],
   "source": [
    "# print(soup.find_all('a', {'href':'#newsstand'}))\n",
    "# print(soup.find_all('button', {'type':'button'}))"
   ]
  },
  {
   "cell_type": "code",
   "execution_count": 218,
   "id": "91952aca-ed3e-406c-86b3-ec5808c9587a",
   "metadata": {},
   "outputs": [
    {
     "name": "stdout",
     "output_type": "stream",
     "text": [
      "['미국에서도 인기가 많은 곡이긴 했지만, 틱톡의 힘 덕분에 이 노래가 빌보드차트에서 꾸준한 상승세를 보이며 결국 10위까지 가게 되었습니다. 이번 글은 너무 짧은 거 같아서 ^^...', '덕분에 그의 노래는 빌보드 싱글 차트 ‘핫 100’에서 19주간 1위를 차지하면서 사람들에게 틱톡의 위력을 한번 더 상기시켰다. DOJA CATSAY SO(FEAT. NICKI MINAJ) 2018년 발표한 #Mooo!로 유튜브 조회수 6000만회...', '못하다 음악방송 출연 이후로 급상승하게 되면서 해외 글로벌 차트에서도 인기몰이 중인데 이번 1월... 음원차트 인기가요 노래 2022년 1월 4일 자 순위입니다 1위 Counting Stars - 비오 2위 사랑은 늘 도망가 - 임영웅 3위...', '한국음악저작권협회 저작권대상’ 시상식에서 편곡상 대상을 수상했습니다. 앞서 조영수는 2011년 한국음악... ※국민 위로 노래. 음원 차트 올킬과 대박 예감. 조영수 작곡가는 말합니다. “이 노래가 많은 사람에게...', '오늘은 금영노래방 노래검색 인기차트 번호 확인에 대해서 알려드리려고 합니다. 자세한 내용은 이곳을 참고하세요 오늘 차트나 번호에 대해서 알아보기 위해서는 먼저 금영노래방 노래검색 사이트인 키싱으로 접속하면...', '인기차트부터 노래번호까지 \"키싱 홈페이지\"를 이용을 하면 됩니다. 사용방법 같은 경우는 너무너무 쉽습니다. 그렇다 보니 누가 눅눅한 책을 펴고 보겠습니까? 핸드폰을 이용해서 간단하게 이용할 수 있기 때문입니다(굿)...', '눈꽃이라는 의미죠~ 이 노래는 그녀의 2집앨범 \"LOVE\" 에 수록된 곡인데 미사 ost 가 인기가 많았던만큼 일본에서도 이 노래가 오리콘차트 첫 등장부터 1위를 할 정도로 인기가 굉장했었던 노래입니다 발매 한달도...', ' RE유투브로 들어본거 같아요. 그나저나 애플 씨디피 멋지네요^^ ', ' RE박효신버전은 좀더 감성이짙다면 원곡은 청랑하면서도 좋네요 기기도 특히하니 이쁘네요 ^^ ']\n"
     ]
    }
   ],
   "source": [
    "my_title = soup.select_one('#main_pack > section.sc_new.sp_nreview._prs_rvw._au_view_collection > div > div._svp_list > panel-list > div > ul' )\n",
    "news_list = my_title.select('ul > li > div > div > div > div > a > div')\n",
    "hil = []\n",
    "for n in news_list :\n",
    "    #print(n.get_text()) #태그(기호<>되어있는 것)와 태그 사이에있는 내용을 넣어주는함수\n",
    "    #print(n.get_attribute_list('href'))\n",
    "    hil.append(n.get_text())\n",
    "print(hil)"
   ]
  },
  {
   "cell_type": "code",
   "execution_count": null,
   "id": "dc42ea6b-2ed5-41f4-a94f-34dc47e517e0",
   "metadata": {},
   "outputs": [],
   "source": []
  }
 ],
 "metadata": {
  "kernelspec": {
   "display_name": "Python 3 (ipykernel)",
   "language": "python",
   "name": "python3"
  },
  "language_info": {
   "codemirror_mode": {
    "name": "ipython",
    "version": 3
   },
   "file_extension": ".py",
   "mimetype": "text/x-python",
   "name": "python",
   "nbconvert_exporter": "python",
   "pygments_lexer": "ipython3",
   "version": "3.9.7"
  }
 },
 "nbformat": 4,
 "nbformat_minor": 5
}
