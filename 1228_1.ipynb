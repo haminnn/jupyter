{
 "cells": [
  {
   "cell_type": "code",
   "execution_count": 161,
   "id": "b501f143-5671-4d57-8eb2-4a5a75cd8dc1",
   "metadata": {},
   "outputs": [
    {
     "name": "stdin",
     "output_type": "stream",
     "text": [
      "나이를 입력하세요. 9\n"
     ]
    },
    {
     "name": "stdout",
     "output_type": "stream",
     "text": [
      "\n",
      "초등학생입니다.\n",
      "당신의 나이는 9세입니다.\n"
     ]
    }
   ],
   "source": [
    "age = int(input('나이를 입력하세요.'))\n",
    "if(age >= 20):\n",
    "    print('\\n성인입니다.')\n",
    "    print('당신의 나이는 %d세입니다.'%age)\n",
    "elif(age >= 14):\n",
    "    print('\\n청소년입니다.')\n",
    "    print('당신의 나이는 %d세입니다.'%age)\n",
    "elif(age >= 8):\n",
    "    print('\\n초등학생입니다.')\n",
    "    print('당신의 나이는 %d세입니다.'%age)\n",
    "elif(age >= 4):\n",
    "    print('\\n유치원생입니다.')\n",
    "    print('당신의 나이는 %d세입니다.'%age)\n",
    "else:\n",
    "    print('\\n당신의 나이는 %d세입니다.'%age)"
   ]
  },
  {
   "cell_type": "code",
   "execution_count": 5,
   "id": "0b52e7e5-97ca-45d5-9f76-0a2904a61e44",
   "metadata": {},
   "outputs": [
    {
     "name": "stdout",
     "output_type": "stream",
     "text": [
      "True\n",
      "False\n",
      "False\n",
      "False\n",
      "True\n",
      "True\n",
      "True\n",
      "False\n",
      "False\n"
     ]
    }
   ],
   "source": [
    "print(1==1 and 2==2) #true\n",
    "print(1!=1 and 2==2) #false\n",
    "print(1==1 and 2!=2) #false\n",
    "print(1!=1 and 2!=2) #false\n",
    "print(1==1 or 2==2) #true\n",
    "print(1!=1 or 2==2) #true\n",
    "print(1==1 or 2!=2) #true\n",
    "print(1!=1 or 2!=2) #false\n",
    "print(not 10 > 5) #false"
   ]
  },
  {
   "cell_type": "code",
   "execution_count": 16,
   "id": "bbd8a262-eeda-49bb-938a-033bd91f1dac",
   "metadata": {},
   "outputs": [
    {
     "name": "stdin",
     "output_type": "stream",
     "text": [
      "이름을 입력하세요.\t\t 최하민\n",
      "\n",
      "국어 점수를 입력하세요.\t 80\n",
      "영어 점수를 입력하세요.\t 90\n",
      "수학 점수를 입력하세요.\t 100\n"
     ]
    },
    {
     "name": "stdout",
     "output_type": "stream",
     "text": [
      "\n",
      "합계 점수는 80+90+100 = 270입니다.\n",
      "\n",
      "평균 점수는 90 점입니다\n",
      "\n",
      "이름\t국어\t영어\t수학\t총점\t평균\n",
      "---------------------------------------------\n",
      "최하민\t80\t90\t100\t270\t90\n",
      "\n",
      "최하민님의 총점:270 평균점수:90\n"
     ]
    }
   ],
   "source": [
    "name = input('이름을 입력하세요.\\t\\t')\n",
    "a = int(input('\\n국어 점수를 입력하세요.\\t'))\n",
    "b = int(input('영어 점수를 입력하세요.\\t'))\n",
    "c = int(input('수학 점수를 입력하세요.\\t'))\n",
    "average = (a+b+c)/3\n",
    "total = a+b+c\n",
    "print('\\n합계 점수는 %d+%d+%d = %2.f입니다.' %(a,b,c,total))\n",
    "print('\\n평균 점수는 %d 점입니다\\n' %average)\n",
    "print('이름\\t국어\\t영어\\t수학\\t총점\\t평균\\n'+('-'*45))\n",
    "print('%s\\t%d\\t%d\\t%d\\t%d\\t%d'%(name,a,b,c,total,average))\n",
    "print('\\n%s님의 총점:%d 평균점수:%d' %(name, total, average))"
   ]
  },
  {
   "cell_type": "code",
   "execution_count": 171,
   "id": "35644b94-87cc-4288-a2fa-93078e783514",
   "metadata": {},
   "outputs": [
    {
     "name": "stdin",
     "output_type": "stream",
     "text": [
      "점수를 입력하세요 85\n"
     ]
    },
    {
     "name": "stdout",
     "output_type": "stream",
     "text": [
      "B\n"
     ]
    }
   ],
   "source": [
    "score =int(input('점수를 입력하세요'))\n",
    "if (score <= 100 and score >=90):\n",
    "    grade = 'A'\n",
    "    print(grade)\n",
    "elif (score >=80):\n",
    "    grade = 'B'\n",
    "    print(grade)\n",
    "elif (score >=70):\n",
    "    grade = 'C'\n",
    "    print(grade)\n",
    "elif (score >=60):\n",
    "    grade = 'D'\n",
    "    print(grade)\n",
    "else:\n",
    "    grade = 'F'\n",
    "    print(grade)"
   ]
  },
  {
   "cell_type": "code",
   "execution_count": 245,
   "id": "f2e12c7d-651c-41d2-98bc-7ec3632e9345",
   "metadata": {},
   "outputs": [
    {
     "name": "stdin",
     "output_type": "stream",
     "text": [
      "숫자를 입력해주세요. 0\n"
     ]
    },
    {
     "name": "stdout",
     "output_type": "stream",
     "text": [
      "0또는 음수입니다.\n"
     ]
    }
   ],
   "source": [
    "even = float(input('숫자를 입력해주세요.'))\n",
    "if (even > 0):\n",
    "    if (even%2) == 0:\n",
    "        print('짝수입니다.')\n",
    "    elif (even%2) == 1:\n",
    "        print('짝수가 아닌 홀수입니다.')\n",
    "    else:\n",
    "        print('실수입니다.')\n",
    "else:\n",
    "    print('0또는 음수입니다.')\n"
   ]
  },
  {
   "cell_type": "code",
   "execution_count": 228,
   "id": "89a15096-5727-4b89-9ed6-698f25d64bd9",
   "metadata": {},
   "outputs": [
    {
     "name": "stdin",
     "output_type": "stream",
     "text": [
      "\t숫자를 입력해주세요..\n",
      "\t\t 100\n"
     ]
    },
    {
     "name": "stdout",
     "output_type": "stream",
     "text": [
      "\n",
      "100\n"
     ]
    }
   ],
   "source": [
    "i = float(input('\\t숫자를 입력해주세요..\\n\\t\\t'))\n",
    "while i<=100:\n",
    "    if i%5 ==0:\n",
    "        print('\\n%d' %i)\n",
    "    i = i + 1"
   ]
  },
  {
   "cell_type": "code",
   "execution_count": 229,
   "id": "842d9683-54f2-435a-a33a-5b39a794b2f8",
   "metadata": {},
   "outputs": [
    {
     "name": "stdout",
     "output_type": "stream",
     "text": [
      "range(0, 5)\n"
     ]
    }
   ],
   "source": [
    "print(range(5))"
   ]
  },
  {
   "cell_type": "code",
   "execution_count": 232,
   "id": "669cb0e1-e6ae-407c-a736-4a37139c2354",
   "metadata": {},
   "outputs": [
    {
     "name": "stdout",
     "output_type": "stream",
     "text": [
      "range(0, 10)\n"
     ]
    }
   ],
   "source": [
    "print(range(10))"
   ]
  },
  {
   "cell_type": "code",
   "execution_count": 235,
   "id": "b25e802d-c299-4936-9bad-a3a9785546fe",
   "metadata": {},
   "outputs": [
    {
     "name": "stdout",
     "output_type": "stream",
     "text": [
      "1\n",
      "2\n",
      "3\n",
      "4\n",
      "5\n",
      "6\n",
      "7\n",
      "8\n",
      "9\n",
      "10\n"
     ]
    }
   ],
   "source": [
    "for i in range(10):\n",
    "    print(i+1)"
   ]
  },
  {
   "cell_type": "code",
   "execution_count": 297,
   "id": "e8f21174-0d11-4a7a-9507-b9af569195f6",
   "metadata": {},
   "outputs": [
    {
     "name": "stdout",
     "output_type": "stream",
     "text": [
      "사과\n",
      "7\n",
      "['귤', '수박']\n",
      "<class 'list'>\n",
      "나는사과를좋아합니다\n",
      "나는배를좋아합니다\n",
      "나는귤를좋아합니다\n",
      "나는수박를좋아합니다\n",
      "나는포도를좋아합니다\n",
      "나는딸기를좋아합니다\n",
      "나는단감를좋아합니다\n",
      "['자몽', '배', '귤', '수박', '포도', '딸기', '단감']\n"
     ]
    }
   ],
   "source": [
    "fruit = ['사과', '배', '귤', '수박', '포도', '딸기', '단감']\n",
    "print(fruit[0])\n",
    "print(len(fruit))\n",
    "print(fruit[2:4])\n",
    "print(type(fruit))\n",
    "for f in fruit:\n",
    "    print('나는'+f+'를좋아합니다')\n",
    "fruit[0] = '자몽'\n",
    "print(fruit)"
   ]
  },
  {
   "cell_type": "code",
   "execution_count": 296,
   "id": "ccb53ddc-4a0a-491a-b61d-a741fbd18065",
   "metadata": {},
   "outputs": [
    {
     "name": "stdin",
     "output_type": "stream",
     "text": [
      "당신이 좋아하는 과일이 무엇입니까? 망고\n"
     ]
    },
    {
     "name": "stdout",
     "output_type": "stream",
     "text": [
      "['자몽', '배', '귤', '수박', '포도', '딸기', '망고']\n"
     ]
    }
   ],
   "source": [
    "answer = input('당신이 좋아하는 과일이 무엇입니까?')\n",
    "fruit[6]= answer\n",
    "print(fruit)"
   ]
  },
  {
   "cell_type": "code",
   "execution_count": 410,
   "id": "372364e7-c2d3-4f91-bf86-36b58031ffb6",
   "metadata": {},
   "outputs": [
    {
     "name": "stdout",
     "output_type": "stream",
     "text": [
      "정수가 아닌 index는 망고입니다.\n",
      "\n",
      "정수가 아닌 index는 포도입니다.\n",
      "\n",
      "정수가 아닌 index는 멜론입니다.\n",
      "\n",
      "실수는 0.30 입니다.\n",
      "\n",
      "실수는 0.75 입니다.\n",
      "\n",
      "짝수의 총 합은 348입니다\n",
      "\n",
      "짝수의 총 개수는 6입니다\n",
      "\n",
      "홀수의 총 합은 355입니다\n",
      "\n",
      "홀수의 총 개수는 5입니다\n",
      "\n",
      "리스트의 총 합은 704.05입니다\n",
      "\n",
      "실수의 총 합은 1.05입니다\n"
     ]
    }
   ],
   "source": [
    "number1 = [12, 24, 39, 48, 57, 65, 76, 84, 91,103, 104, '망고', '포도', '멜론', 0.3, 0.75]\n",
    "listeven = 0  #리스트 내 짝수\n",
    "listevencount = 0 #리스트 내 짝수의 총 개수\n",
    "listoddnumber = 0 #리스트 내 홀수\n",
    "listoddcount = 0 #이스트내 홀수의 총 개수\n",
    "listsum = 0 #리스트 전체 합계\n",
    "nsum = 0 #실수의 총 합\n",
    "for n in number1 :\n",
    "    if type(n) is not str :\n",
    "        listsum = n + listsum\n",
    "        if n%2 == 0 :\n",
    "            listeven = listeven + n\n",
    "            listevencount = listevencount + 1\n",
    "        elif n%2 == 1 :\n",
    "            listoddnumber = listoddnumber + n\n",
    "            listoddcount = listoddcount + 1\n",
    "        else :\n",
    "            print('실수는 %.2f 입니다.\\n' %n)\n",
    "            nsum = nsum + n\n",
    "    else :\n",
    "        print('정수가 아닌 index는 '+ n +'입니다.\\n')\n",
    "\n",
    "        \n",
    "    \n",
    "print('짝수의 총 합은 %d입니다' %listeven)\n",
    "print('\\n짝수의 총 개수는 %d입니다' %listevencount)\n",
    "print('\\n홀수의 총 합은 %d입니다' %listoddnumber)\n",
    "print('\\n홀수의 총 개수는 %d입니다' %listoddcount)\n",
    "print('\\n리스트의 총 합은 %.2f입니다' %listsum)\n",
    "print('\\n실수의 총 합은 %.2f입니다' %nsum)"
   ]
  },
  {
   "cell_type": "code",
   "execution_count": null,
   "id": "60ca24b1-cc76-44d7-8cf0-d5f4cc64fb96",
   "metadata": {},
   "outputs": [],
   "source": []
  }
 ],
 "metadata": {
  "kernelspec": {
   "display_name": "Python 3 (ipykernel)",
   "language": "python",
   "name": "python3"
  },
  "language_info": {
   "codemirror_mode": {
    "name": "ipython",
    "version": 3
   },
   "file_extension": ".py",
   "mimetype": "text/x-python",
   "name": "python",
   "nbconvert_exporter": "python",
   "pygments_lexer": "ipython3",
   "version": "3.9.7"
  }
 },
 "nbformat": 4,
 "nbformat_minor": 5
}
