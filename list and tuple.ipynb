{
 "cells": [
  {
   "cell_type": "code",
   "execution_count": 1,
   "id": "3814f23f-0823-46dd-8a28-18eb9d5a5ccb",
   "metadata": {},
   "outputs": [
    {
     "name": "stdout",
     "output_type": "stream",
     "text": [
      "1\n",
      "2\n"
     ]
    }
   ],
   "source": [
    "i = 1\n",
    "while i < 6 :\n",
    "    if i == 3:\n",
    "        break\n",
    "    print(i)\n",
    "    i = i + 1\n",
    "else :\n",
    "    print('i is no nonger')\n",
    "    "
   ]
  },
  {
   "cell_type": "code",
   "execution_count": 4,
   "id": "41a4e790-d533-4b68-b183-a80fa50ae918",
   "metadata": {},
   "outputs": [
    {
     "name": "stdout",
     "output_type": "stream",
     "text": [
      "2\n",
      "5\n",
      "8\n",
      "11\n",
      "14\n",
      "17\n",
      "20\n",
      "23\n",
      "26\n",
      "29\n"
     ]
    }
   ],
   "source": [
    "for x in range(2, 30, 3) : #2부터 30전까지 3씩증가시키는 반복문\n",
    "    print(x)"
   ]
  },
  {
   "cell_type": "code",
   "execution_count": 6,
   "id": "5a9f5c97-7c2d-413d-b489-4a3ca7fa87a7",
   "metadata": {},
   "outputs": [
    {
     "name": "stdout",
     "output_type": "stream",
     "text": [
      "0\n",
      "1\n",
      "2\n",
      "3\n",
      "4\n",
      "5\n"
     ]
    }
   ],
   "source": [
    "for x in range(6) : #0부터 1씩증가를 6번 반복\n",
    "    print(x)"
   ]
  },
  {
   "cell_type": "code",
   "execution_count": 80,
   "id": "dbe41272-e529-4e1a-be60-e568099898af",
   "metadata": {},
   "outputs": [
    {
     "name": "stdout",
     "output_type": "stream",
     "text": [
      "[] <class 'list'>\n",
      "[] <class 'list'>\n",
      "['apple']\n",
      "['apple', 'mango']\n",
      "['sonata']\n",
      "['apple', 'mango', 'mango']\n",
      "['apple', 'mango', 'grape', 'mango', 'orange']\n",
      "5\n",
      "mango\n",
      "['apple', 'grape', 'mango', 'orange']\n",
      "['apple', 'grape', 'mango', 'orange']\n",
      "['orange', 'mango', 'grape', 'apple']\n"
     ]
    }
   ],
   "source": [
    "my_fruits = list()\n",
    "my_car = list()\n",
    "\n",
    "print(my_fruits, type(my_fruits))\n",
    "print(my_car, type(my_car))\n",
    "\n",
    "my_fruits.append('apple') #append 함수는 리스트 맨 뒤에 항목을 추가할 때\n",
    "print(my_fruits)\n",
    "my_fruits.append('mango')\n",
    "print(my_fruits)\n",
    "my_car.append('sonata')\n",
    "print(my_car)\n",
    "my_fruits.append('mango')\n",
    "print(my_fruits)\n",
    "my_fruits.append('orange')\n",
    "my_fruits.insert(2,'grape') #insert 함수는 리스트 배열 중 몇번 째에 들어갈 것인지 적어준 후, 항목을 추가한다.\n",
    "print(my_fruits)\n",
    "print(len(my_fruits)) #길이를 알고 싶을 때\n",
    "print(my_fruits[1])\n",
    "my_fruits.remove(my_fruits[1]) # 값을 지우고 싶을때 배열위치로 넣어도되고 인덱스값을 입력해주어도 된다. ex) my_fruits.remove('apple')\n",
    "print(my_fruits)\n",
    "my_fruits.sort() #오름차순 정렬\n",
    "print(my_fruits)\n",
    "my_fruits.sort(reverse = True) #내림차순 정렬\n",
    "print(my_fruits)"
   ]
  },
  {
   "cell_type": "code",
   "execution_count": 81,
   "id": "eccbe2f6-67ac-45b6-b3d6-8cb10a921e9a",
   "metadata": {},
   "outputs": [
    {
     "name": "stdout",
     "output_type": "stream",
     "text": [
      "['orange', 'mango', 'grape', 'apple']\n",
      "['orange', 'mango', 'grape']\n",
      "apple\n"
     ]
    }
   ],
   "source": [
    "print(my_fruits)\n",
    "a = my_fruits.pop() # 매개변수가 없으면 리스트 맨뒤 인덱스의 항목을 지우고 그 값을 반환시킨다. (-2)라고 되어있으면 뒤에서 2번 째를 뜻함\n",
    "print(my_fruits)\n",
    "print(a)"
   ]
  },
  {
   "cell_type": "code",
   "execution_count": 104,
   "id": "4b07ba94-9a7e-4938-801a-7e3b68c79658",
   "metadata": {},
   "outputs": [
    {
     "name": "stdout",
     "output_type": "stream",
     "text": [
      "()\n",
      "('orange', 'apple', 'grape', 'mango', 'strawberry') <class 'tuple'>\n",
      "orange\n",
      "<class 'list'>\n",
      "<class 'tuple'>\n",
      "['orange', 'apple', 'grape', 'mango', 'strawberry', 'melon', 'melon']\n",
      "('orange', 'apple', 'grape', 'mango', 'strawberry', 'melon', 'melon')\n"
     ]
    },
    {
     "data": {
      "text/plain": [
       "2"
      ]
     },
     "execution_count": 104,
     "metadata": {},
     "output_type": "execute_result"
    }
   ],
   "source": [
    "my_car = tuple() #튜플은 추가, 수정, 삭제가 안된다. 리스트랑 차이점\n",
    "my_fruits = ('orange', 'apple', 'grape', 'mango', 'strawberry')\n",
    "\n",
    "print(my_car)\n",
    "print(my_fruits, type(my_fruits))\n",
    "print(my_fruits[0])\n",
    "my_fruits_list = list(my_fruits) #튜플을 리스트로 바꾼다.\n",
    "print(type(my_fruits_list))\n",
    "print(type(my_fruits))\n",
    "my_fruits_list.append('melon')\n",
    "my_fruits_list.append('melon')\n",
    "print(my_fruits_list)\n",
    "my_fruits_tuple = tuple(my_fruits_list) #리스트를 튜플로 바꾼다.\n",
    "print(my_fruits_tuple)\n",
    "my_fruits_tuple.count('melon') #매개변수 값의 개수를 셀 때 쓰인다."
   ]
  },
  {
   "cell_type": "code",
   "execution_count": null,
   "id": "aff555e5-b1fd-4f2c-acb9-c716fbed5094",
   "metadata": {},
   "outputs": [],
   "source": []
  }
 ],
 "metadata": {
  "kernelspec": {
   "display_name": "Python 3 (ipykernel)",
   "language": "python",
   "name": "python3"
  },
  "language_info": {
   "codemirror_mode": {
    "name": "ipython",
    "version": 3
   },
   "file_extension": ".py",
   "mimetype": "text/x-python",
   "name": "python",
   "nbconvert_exporter": "python",
   "pygments_lexer": "ipython3",
   "version": "3.9.7"
  }
 },
 "nbformat": 4,
 "nbformat_minor": 5
}
