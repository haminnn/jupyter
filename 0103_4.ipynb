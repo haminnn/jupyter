{
 "cells": [
  {
   "cell_type": "code",
   "execution_count": 1,
   "id": "873f0be1-230b-4d30-b884-9b5e507d6747",
   "metadata": {},
   "outputs": [],
   "source": [
    "#스터디 숙제\n",
    "#키보드로 무엇을 하시겠습니다? 1번 계좌만들기 2번 입금하기 (계좌번호 입금액 입력하게만들기)3번 출금하기 4번 송금하기"
   ]
  },
  {
   "cell_type": "code",
   "execution_count": 7,
   "id": "a6f4cf98-8397-4bff-bd45-c745126e63f9",
   "metadata": {},
   "outputs": [],
   "source": [
    "class Account :\n",
    "    def __init__(self, num) :\n",
    "        self.__num = num\n",
    "        self.__balance = 0\n",
    "    \n",
    "    def get_num(self) :\n",
    "        return self.__num\n",
    "    \n",
    "    def get_balance(self) :\n",
    "        return self.__balance\n",
    "    \n",
    "    def get_deposit(self, money) :\n",
    "        self.__balance = self.__balance + money\n",
    "    \n",
    "    def get_withdraw(self, money) :\n",
    "        if (self.__balance - money) > 0 :\n",
    "            self.__balance = self.__balance - money\n",
    "    \n",
    "    def get_user(self) :\n",
    "        return self.__num\n",
    "    \n",
    "    def remittance(self, money, other) : #아더쪽만 set으로 바꿔보기\n",
    "        if (self.__balance - money) > 0 :\n",
    "            self.__balance = self.__balance - money\n",
    "            get_balance = other.__balance\n",
    "            other.__balance = other.__balance + money\n",
    "        else :\n",
    "            print('잔액이 부족합니다.')\n",
    "            "
   ]
  },
  {
   "cell_type": "code",
   "execution_count": 14,
   "id": "108db8a7-3fa7-40b8-8415-9d8ea1322511",
   "metadata": {},
   "outputs": [
    {
     "name": "stdin",
     "output_type": "stream",
     "text": [
      "무엇을 하시겠습니까? 4\n",
      "송금보낼 계좌번호를 입력하세요 4\n",
      "금액을 입력하세요 4\n"
     ]
    },
    {
     "name": "stdout",
     "output_type": "stream",
     "text": [
      "잘못 입력하였습니다.\n"
     ]
    }
   ],
   "source": [
    "user1 = Account(1111)\n",
    "user2 = Account(2222)\n",
    "user3 = Account(3333)\n",
    "user4 = Account(4444)\n",
    "user_list = []\n",
    "account_list = [user1, user2, user3, user4]\n",
    "\n",
    " \n",
    "keyboard = int(input(\"무엇을 하시겠습니까?\"))\n",
    "    \n",
    "if keyboard == 1 :\n",
    "    a = int(input(\"계좌번호를 입력하세요\"))\n",
    "    user_list.append(a)\n",
    "    \n",
    "elif keyboard == 2 :\n",
    "    b = int(input('입금할 금액을 입력하세요'))\n",
    "    user1.get_deposit(b)\n",
    "    print('{}원이 입금되었습니다. 현재잔액은{}원입니다.'.format(b, user1.get_balance()))\n",
    "    print('잘못 입력하였습니다.')\n",
    "        \n",
    "elif keyboard == 3 :\n",
    "    c = int(input('출금할 금액을 입력하세요'))\n",
    "    print('잘못 입력하였습니다.')\n",
    "        \n",
    "elif keyboard == 4 :\n",
    "    d = int(input('송금보낼 계좌번호를 입력하세요'))\n",
    "    f = int(input('금액을 입력하세요'))\n",
    "    print('잘못 입력하였습니다.')\n",
    "        \n",
    "else :\n",
    "    print('잘못 입력하였습니다.')\n",
    "\n",
    "    \n",
    "\n"
   ]
  },
  {
   "cell_type": "code",
   "execution_count": null,
   "id": "75b00561-2e71-4eb7-a299-ca8b7c395e3b",
   "metadata": {},
   "outputs": [],
   "source": []
  },
  {
   "cell_type": "code",
   "execution_count": null,
   "id": "eae31713-b408-4c6f-a85f-a8b71f9625da",
   "metadata": {},
   "outputs": [],
   "source": []
  }
 ],
 "metadata": {
  "kernelspec": {
   "display_name": "Python 3 (ipykernel)",
   "language": "python",
   "name": "python3"
  },
  "language_info": {
   "codemirror_mode": {
    "name": "ipython",
    "version": 3
   },
   "file_extension": ".py",
   "mimetype": "text/x-python",
   "name": "python",
   "nbconvert_exporter": "python",
   "pygments_lexer": "ipython3",
   "version": "3.9.7"
  }
 },
 "nbformat": 4,
 "nbformat_minor": 5
}
