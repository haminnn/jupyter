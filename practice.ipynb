{
 "cells": [
  {
   "cell_type": "code",
   "execution_count": 16,
   "id": "f45fe83b-14a1-46f3-b594-dc8eba99d38f",
   "metadata": {},
   "outputs": [
    {
     "name": "stdout",
     "output_type": "stream",
     "text": [
      "5\n",
      "7\n",
      "<class 'str'>\n"
     ]
    }
   ],
   "source": [
    "a = 5\n",
    "print(a)\n",
    "a = 7\n",
    "print(a)\n",
    "b='Hello'\n",
    "print(type(b))"
   ]
  },
  {
   "cell_type": "code",
   "execution_count": 21,
   "id": "22d77174-de0b-4141-ad4b-57ffd08bd52a",
   "metadata": {},
   "outputs": [
    {
     "name": "stdout",
     "output_type": "stream",
     "text": [
      "3.0\n",
      "<class 'float'>\n",
      "\n",
      "<class 'str'>\n"
     ]
    }
   ],
   "source": [
    "b = 3.0\n",
    "print(b)\n",
    "print(type(b))\n",
    "b = ''\n",
    "print (b)\n",
    "print(type(b))"
   ]
  },
  {
   "cell_type": "code",
   "execution_count": 43,
   "id": "fb70c362-65c1-4583-a2fc-060501e4309a",
   "metadata": {},
   "outputs": [
    {
     "name": "stdout",
     "output_type": "stream",
     "text": [
      "35\n"
     ]
    }
   ],
   "source": [
    "a = 5\n",
    "b = 7\n",
    "print(d)\n",
    "d = a * b"
   ]
  },
  {
   "cell_type": "code",
   "execution_count": 54,
   "id": "6e16e024-5c29-4e8a-8543-f771e5368062",
   "metadata": {},
   "outputs": [
    {
     "name": "stdout",
     "output_type": "stream",
     "text": [
      "4.0\n"
     ]
    },
    {
     "data": {
      "text/plain": [
       "float"
      ]
     },
     "execution_count": 54,
     "metadata": {},
     "output_type": "execute_result"
    }
   ],
   "source": [
    "a = 1.0\n",
    "b = 2.0\n",
    "answer = a + b - (a - b)\n",
    "print(answer)\n",
    "type(answer)"
   ]
  },
  {
   "cell_type": "code",
   "execution_count": 59,
   "id": "88115d49-cc85-45ef-8fcb-56648e25ed59",
   "metadata": {},
   "outputs": [
    {
     "name": "stdout",
     "output_type": "stream",
     "text": [
      "4.0\n",
      "<class 'float'>\n",
      "5\n",
      "-1\n",
      "6\n",
      "0.6666666666666666\n",
      "0\n",
      "2\n",
      "8\n"
     ]
    }
   ],
   "source": [
    "a = 1.0\n",
    "b = 2.0\n",
    "answer = a + b - (a - b)\n",
    "print(answer)\n",
    "print(type(answer))\n",
    "a = 2\n",
    "b = 3\n",
    "c = a + b\n",
    "print(c)\n",
    "c = a - b\n",
    "print(c)\n",
    "c = a * b\n",
    "print(c)\n",
    "c = a / b\n",
    "print(c)\n",
    "c = a // b\n",
    "print(c)\n",
    "c = a % b\n",
    "print(c)\n",
    "c = a ** b\n",
    "print(c)"
   ]
  },
  {
   "cell_type": "code",
   "execution_count": null,
   "id": "bedfe298-94c6-4829-9599-4ab693752047",
   "metadata": {},
   "outputs": [],
   "source": []
  }
 ],
 "metadata": {
  "kernelspec": {
   "display_name": "Python 3 (ipykernel)",
   "language": "python",
   "name": "python3"
  },
  "language_info": {
   "codemirror_mode": {
    "name": "ipython",
    "version": 3
   },
   "file_extension": ".py",
   "mimetype": "text/x-python",
   "name": "python",
   "nbconvert_exporter": "python",
   "pygments_lexer": "ipython3",
   "version": "3.9.7"
  }
 },
 "nbformat": 4,
 "nbformat_minor": 5
}
